{
 "cells": [
  {
   "cell_type": "markdown",
   "id": "96f15cb3-6edd-4f61-a396-82b2815b158f",
   "metadata": {},
   "source": [
    "# League of Legends Data Analysis Tutorial\n",
    "\n",
    "*Andrew Sarama, Elisabeth Jang*  \n",
    "*May 15, 2022*  \n",
    "*University of Maryland, College Park*  \n",
    "*Department of Computer Science and Mathematics*  \n",
    "\n",
    "## Brief Introduction\n",
    "\n",
    "League of Legends is a team-based 5v5 competitive Esport. Various data from previously played matches is saved to the LoL database. However, access to the database needs to be manually authenticated by the Riot Games Development Team. Luckily, authenticated API users have downloaded relevant data from thousands of games and uploaded the files for public access. This tutorial will be an effective introduction to analyzing LoL match data regardless of the user's authentication level.\n",
    "\n",
    "\n",
    "### Important Game Mechanics\n",
    "\n",
    "*Feel free to skip if you are already familiar with basic LoL gameplay*\n",
    "\n",
    "\n",
    "#### Primary Game Objectives\n",
    "The LoL map (also known as \"The Rift\") has 2 teams, *red* and *blue*. The goal of the game is to destroy the opposing team's *nexus*, located at the center of the opposing team's *base*. The nexus is protected by 4 layers of *towers*, which are non-regenerating defense turrets preventing players from simply walking into the enemy base. All 4 layers of towers must be penetrated before the nexus becomes attackable. \n",
    "\n",
    "#### Champions\n",
    "Before the start of any match, all 10 players choose *champions* from a pool of ~150 playable characters. Champions can attack opposing champions and towers. Champions that die in combat will respawn in their base. Note that the only way to win is to destroy the opposing nexus--killing the enemy champions simply prevents them from protecting their towers and nexus. Each player gets to pick and ban exactly 1 champion.\n",
    "\n",
    "#### Secondary Game Objectives\n",
    "There are 3 secondary objectives on The Rift: killing the *Dragon*, killing the *Rift Herald*, and killing the *Baron*. All of these objectives spawn in set times and locations on The Rift, and the team that completes the objectives first gains bonuses that make destroying the opposing team's base easier."
   ]
  },
  {
   "cell_type": "markdown",
   "id": "999892a8-89a9-42ee-b100-289131edc76d",
   "metadata": {},
   "source": [
    "## Data Analysis Opportunities\n",
    "\n",
    "Using the data that is stored for LoL matches and some data analysis techniques, we can answer some of the following interesting questions (and many, many more):\n",
    "\n",
    "1. Is the team that gets the \"first blood\" (first champion kill in the match) more likely to win? How good of a predictor is the first blood for the outcome of the game?\n",
    "2. How does completing secondary objectives impact a team's chances of winning? Is killing the dragon a waste of player's time, or is it a predictor of success?\n",
    "3. What is the relationship between a champion's win rate, pick rate, and ban rate?\n",
    "4. Is focusing more on secondary objectives than primary objectives a viable strategy?"
   ]
  },
  {
   "cell_type": "markdown",
   "id": "0f3276db-1327-4315-9133-6cc60ad1e4da",
   "metadata": {},
   "source": [
    "## Data Collection and Parsing\n",
    "\n",
    "Without a private Riot Games development key, finding LoL match data with very specific paramaters is challenging. Luckily, if we want to analyze a large quantity of general matches, many such public datasets exist. This tutorial will use a free-to-download dataset containing ~50,000 matches played on the European Server. See [1] under *Resources* for a download link.\n",
    "\n",
    "### Importing Necessary Libraries\n",
    "\n",
    "The data will be stored in our Python code using the *pandas* library. The first step will be to import the library itself:"
   ]
  },
  {
   "cell_type": "code",
   "execution_count": 1,
   "id": "b87e9835-d56b-4f7e-b7be-2ec4fc3a553f",
   "metadata": {},
   "outputs": [],
   "source": [
    "import pandas as pd"
   ]
  },
  {
   "cell_type": "markdown",
   "id": "f9f89549-dc21-4201-ad8f-ea13ccce451f",
   "metadata": {},
   "source": [
    "The data from this specific source has 4 files: games.csv (contains the game data) and 3 .json files for converting champion/spell IDs to their names. Let's first get the data from the games into a pandas DataFrame and observe what other data parsing needs to take place."
   ]
  },
  {
   "cell_type": "code",
   "execution_count": 2,
   "id": "a3f4b5ca-939c-4cbe-a158-9f3a2bc7f416",
   "metadata": {},
   "outputs": [
    {
     "data": {
      "text/plain": [
       "'gameId'"
      ]
     },
     "metadata": {},
     "output_type": "display_data"
    },
    {
     "data": {
      "text/plain": [
       "'creationTime'"
      ]
     },
     "metadata": {},
     "output_type": "display_data"
    },
    {
     "data": {
      "text/plain": [
       "'gameDuration'"
      ]
     },
     "metadata": {},
     "output_type": "display_data"
    },
    {
     "data": {
      "text/plain": [
       "'seasonId'"
      ]
     },
     "metadata": {},
     "output_type": "display_data"
    },
    {
     "data": {
      "text/plain": [
       "'winner'"
      ]
     },
     "metadata": {},
     "output_type": "display_data"
    },
    {
     "data": {
      "text/plain": [
       "'firstBlood'"
      ]
     },
     "metadata": {},
     "output_type": "display_data"
    },
    {
     "data": {
      "text/plain": [
       "'firstTower'"
      ]
     },
     "metadata": {},
     "output_type": "display_data"
    },
    {
     "data": {
      "text/plain": [
       "'firstInhibitor'"
      ]
     },
     "metadata": {},
     "output_type": "display_data"
    },
    {
     "data": {
      "text/plain": [
       "'firstBaron'"
      ]
     },
     "metadata": {},
     "output_type": "display_data"
    },
    {
     "data": {
      "text/plain": [
       "'firstDragon'"
      ]
     },
     "metadata": {},
     "output_type": "display_data"
    },
    {
     "data": {
      "text/plain": [
       "'firstRiftHerald'"
      ]
     },
     "metadata": {},
     "output_type": "display_data"
    }
   ],
   "source": [
    "games = pd.read_csv(\"/home/jovyan/notebooks/Data/games.csv\")\n",
    "\n",
    "# there are a very large number of data columns, so let's look at the names of the first 11\n",
    "display_cols = 11\n",
    "i = 1\n",
    "for col in games.columns:\n",
    "    if i <= display_cols:\n",
    "        display(col)\n",
    "        i += 1"
   ]
  },
  {
   "cell_type": "markdown",
   "id": "ac01f8ad-3051-4b69-9dba-4b5de7a1f115",
   "metadata": {},
   "source": [
    "These columns have very useful information about the events that took place in the match. From the description of the dataset at link [1], the 2 teams are given numerical identifiers 1 and 2. For all columns that show the 'first' (objective), they represent which team completed the objective first. However, not all objectives are necessary to win a game, so identifier 0 implies that neither team completed this objective.\n",
    "\n",
    "Looking at the .csv file, there are a lot of columns that are unneccessary and are needlessly cluttering the data. Here we will drop all of the columns that will not be used throughout this tutorial:"
   ]
  },
  {
   "cell_type": "code",
   "execution_count": 3,
   "id": "ba85056d-c2a8-4964-9845-91f929346706",
   "metadata": {},
   "outputs": [],
   "source": [
    "games.drop(columns=['gameId', 'creationTime', 'seasonId'], inplace = True)"
   ]
  },
  {
   "cell_type": "markdown",
   "id": "cad02401-4d33-45f2-be9a-d0110bc5420d",
   "metadata": {},
   "source": [
    "### Using JSON to Clean Up\n",
    "\n",
    "Many of the columns use numerical identifiers for champions and spells. Replacing those entries with the actual names of the champions will make interpreting the data significantly easier. We will use the *json* library to read the .JSON files into dictionaries for a quick conversion:"
   ]
  },
  {
   "cell_type": "code",
   "execution_count": 4,
   "id": "093776d0-64ee-42cc-bd13-ceb6a904f4d6",
   "metadata": {},
   "outputs": [],
   "source": [
    "import json\n",
    "\n",
    "champion_info = {}; # this will be a dictionary mapping champion ID to a set of parameters\n",
    "with open(\"/home/jovyan/notebooks/Data/champion_info.json\", \"r\") as read_file:\n",
    "    champion_info = json.load(read_file)\n",
    "    champion_info = champion_info['data'] # we don't need the game version and other extraneous data"
   ]
  },
  {
   "cell_type": "markdown",
   "id": "7e7b8d39-cf03-489f-bbfc-f065be9c285d",
   "metadata": {},
   "source": [
    "From this, let's see what information we can find about champions with ID = 1:"
   ]
  },
  {
   "cell_type": "code",
   "execution_count": 5,
   "id": "69a75f13-c707-4a58-8bee-88fec63b70e6",
   "metadata": {},
   "outputs": [
    {
     "data": {
      "text/plain": [
       "{'title': 'the Dark Child', 'id': 1, 'key': 'Annie', 'name': 'Annie'}"
      ]
     },
     "metadata": {},
     "output_type": "display_data"
    }
   ],
   "source": [
    "display(champion_info['1'])"
   ]
  },
  {
   "cell_type": "code",
   "execution_count": 6,
   "id": "36ef9c2d-6414-443d-bcd1-41f3f89970d6",
   "metadata": {},
   "outputs": [
    {
     "data": {
      "text/html": [
       "<div>\n",
       "<style scoped>\n",
       "    .dataframe tbody tr th:only-of-type {\n",
       "        vertical-align: middle;\n",
       "    }\n",
       "\n",
       "    .dataframe tbody tr th {\n",
       "        vertical-align: top;\n",
       "    }\n",
       "\n",
       "    .dataframe thead th {\n",
       "        text-align: right;\n",
       "    }\n",
       "</style>\n",
       "<table border=\"1\" class=\"dataframe\">\n",
       "  <thead>\n",
       "    <tr style=\"text-align: right;\">\n",
       "      <th></th>\n",
       "      <th>t1_champ1id</th>\n",
       "      <th>t1_champ1</th>\n",
       "    </tr>\n",
       "  </thead>\n",
       "  <tbody>\n",
       "    <tr>\n",
       "      <th>0</th>\n",
       "      <td>8</td>\n",
       "      <td>Vladimir</td>\n",
       "    </tr>\n",
       "    <tr>\n",
       "      <th>1</th>\n",
       "      <td>119</td>\n",
       "      <td>Draven</td>\n",
       "    </tr>\n",
       "    <tr>\n",
       "      <th>2</th>\n",
       "      <td>18</td>\n",
       "      <td>Tristana</td>\n",
       "    </tr>\n",
       "    <tr>\n",
       "      <th>3</th>\n",
       "      <td>57</td>\n",
       "      <td>Maokai</td>\n",
       "    </tr>\n",
       "    <tr>\n",
       "      <th>4</th>\n",
       "      <td>19</td>\n",
       "      <td>Warwick</td>\n",
       "    </tr>\n",
       "  </tbody>\n",
       "</table>\n",
       "</div>"
      ],
      "text/plain": [
       "   t1_champ1id t1_champ1\n",
       "0            8  Vladimir\n",
       "1          119    Draven\n",
       "2           18  Tristana\n",
       "3           57    Maokai\n",
       "4           19   Warwick"
      ]
     },
     "metadata": {},
     "output_type": "display_data"
    }
   ],
   "source": [
    "def champ_name_map(id): # this function will serve as a map \n",
    "  return champion_info[id]['name']\n",
    "\n",
    "# the dataset gives numerical id's, while all json keys are strings\n",
    "games['t1_champ1'] = games['t1_champ1id'].astype(str)\n",
    "games['t1_champ1'] = games['t1_champ1'].map(champ_name_map) # apply id string -> name mapping function\n",
    "display(games[['t1_champ1id', 't1_champ1']].head(5))"
   ]
  },
  {
   "cell_type": "markdown",
   "id": "2061b9ab-3fad-4fdd-a85a-b8c94b3fa4be",
   "metadata": {},
   "source": [
    "Having done this, any data analysis done on the champion selection of the players will now be a lot more readable! "
   ]
  },
  {
   "cell_type": "markdown",
   "id": "14ae84ef-7e99-41f1-80f3-913df3bfaa45",
   "metadata": {},
   "source": [
    "### Data Cleaning: Early Forfeited Games\n",
    "\n",
    "In LoL, if a player disconnects within the first ~6 minutes of the game, the players in the game can vote to cancel the match. Games like this will prove to be outliers in a number of areas (low objective count, no tower destructions, no first bloods, etc). It makes a lot of sense to remove games like this.\n",
    "\n",
    "A game cannot be forfeited or realistically lost before 10 minutes. Thus, any game that lasts less than 600 seconds is likely a game that was reset after a disconnect. Do any games like this exist?"
   ]
  },
  {
   "cell_type": "code",
   "execution_count": 7,
   "id": "21084919-5477-4245-8c4a-0ce5e3a8db36",
   "metadata": {},
   "outputs": [
    {
     "data": {
      "text/plain": [
       "1204"
      ]
     },
     "execution_count": 7,
     "metadata": {},
     "output_type": "execute_result"
    }
   ],
   "source": [
    "len(games[games['gameDuration'] <= 600])"
   ]
  },
  {
   "cell_type": "markdown",
   "id": "01ace4c5-f33e-448f-8acb-6e85ab4310eb",
   "metadata": {},
   "source": [
    "So it appears that ~1200 of our games were cancelled before the 10 minute mark. These games will not be beneficial to our analysis, so lets remove them:"
   ]
  },
  {
   "cell_type": "code",
   "execution_count": 8,
   "id": "2afee0d3-7e4c-4153-98d5-c75f40d8fe83",
   "metadata": {},
   "outputs": [
    {
     "data": {
      "text/plain": [
       "50286"
      ]
     },
     "execution_count": 8,
     "metadata": {},
     "output_type": "execute_result"
    }
   ],
   "source": [
    "games = games[games['gameDuration'] > 600]\n",
    "games.reset_index() # this is necessary as some indexes will be left empty after dropping rows\n",
    "len(games)"
   ]
  },
  {
   "cell_type": "markdown",
   "id": "c2748e85-ec96-4402-a051-3fa71c24d9b2",
   "metadata": {},
   "source": [
    "## Data Analysis Example: First Blood\n",
    "\n",
    "As an example exercise, we will determine whether the team that gets the *first blood* (reminder: this is the team that gets the first champion kill) is more likely to win the match. We will then do some hypothesis testing to check the statistical signficance of the results.\n",
    "\n",
    "First, let's figure out the win percentage of the team that gets the first blood. We know if the winning team gets the first blood whenever the 'winner' column is equal to the 'firstBlood' column."
   ]
  },
  {
   "cell_type": "code",
   "execution_count": 9,
   "id": "9f7d5191-4ad6-4f88-a102-9af52ba10b68",
   "metadata": {},
   "outputs": [
    {
     "data": {
      "text/plain": [
       "59.052221294197196"
      ]
     },
     "metadata": {},
     "output_type": "display_data"
    }
   ],
   "source": [
    "# we are looking for the number of rows \n",
    "num_wins = len(games[games[\"winner\"] == games[\"firstBlood\"]])\n",
    "num_games = len(games)\n",
    "\n",
    "display((num_wins / num_games) * 100.0)"
   ]
  },
  {
   "cell_type": "markdown",
   "id": "6125f01f-6442-4be0-aefc-788a511f6b0a",
   "metadata": {},
   "source": [
    "Interesting! According to the dataset, the team that gets the first blood has a 58.47% chance of winning the match. But how statistically significant is this result?\n",
    "\n",
    "On average, two evenly matched teams should each have a winrate very close to 50%. It may be naive to assume that all teams in this dataset are \"evenly matched\", however there is no good way to quantify the fairness of a match. For the rest of this analysis, let's assume that teams 1 and 2 are evenly matched, and thus have an equal chance of getting the first blood. There may be conflating variables such as champion selection/archetype, but let's ignore that for now.\n",
    "\n",
    "### Hypothesis Testing\n",
    "\n",
    "For this hypothesis test, let's be more statistically robust. Let's consider each team as an individual (meaning there are 2 data points per match). The independent variable is whether or not a team got the first blood. The dependent variable is whether or not the team won the match. Let's filter out some dataframes that represent these variables:"
   ]
  },
  {
   "cell_type": "code",
   "execution_count": 10,
   "id": "6f3c3dfc-eabe-4bd5-97db-710b6147c249",
   "metadata": {},
   "outputs": [
    {
     "data": {
      "text/plain": [
       "[29695, 20591]"
      ]
     },
     "metadata": {},
     "output_type": "display_data"
    }
   ],
   "source": [
    "first_blood_win = 0\n",
    "first_blood_loss = 0\n",
    "\n",
    "for index, row in games.iterrows():\n",
    "    if row['firstBlood'] == row['winner']:\n",
    "        first_blood_win += 1\n",
    "    else:\n",
    "        first_blood_loss += 1\n",
    "        \n",
    "display([first_blood_win, first_blood_loss])"
   ]
  },
  {
   "cell_type": "markdown",
   "id": "4872b6f4-0c09-472b-9191-7c8806573737",
   "metadata": {},
   "source": [
    "Now, we have a categorical dependent and independent variable. We are hoping to show that the number of observations for the dependent categories is far enough away from the expected number of observations. If the first blood in a match had no correlation with the result, then we would expect the first blood teams to have an equal number of wins and losses (since the average winrate for a team would be 50%). \n",
    "\n",
    "This comparison of categorical variable frequencies is perfect for a chi-square test! The scipy library can quickly do the chi-square test for us:"
   ]
  },
  {
   "cell_type": "code",
   "execution_count": 11,
   "id": "45e517d0-000d-480e-8ca5-707653bc3289",
   "metadata": {},
   "outputs": [
    {
     "data": {
      "text/plain": [
       "Power_divergenceResult(statistic=1648.2284532474248, pvalue=0.0)"
      ]
     },
     "metadata": {},
     "output_type": "display_data"
    }
   ],
   "source": [
    "import scipy.stats as stat\n",
    "\n",
    "expected = (first_blood_win + first_blood_loss) / 2\n",
    "display(stat.chisquare(f_obs = [first_blood_win, first_blood_loss], f_exp = [expected, expected]))"
   ]
  },
  {
   "cell_type": "markdown",
   "id": "d3d54030-a7dc-4148-93f7-b580fd5359e5",
   "metadata": {},
   "source": [
    "Perhaps this test wasn't necessary, considering there is an almost 5,000 observation difference from the number we would expect. Thus, the p-value of this number of observations occurring naturally is so small, that it's being rounded to 0.0. Without question, there is a correlation between the team that gets first blood and their chance of victory. But is there an example with a more reasonable p-value?\n",
    "\n",
    "Let's discuss which champions are correlated with an increased number of wins for their team *with statistical significance*. Let's set a maximum p-value of 0.05, meaning any chi-square test that has a p-value higher than 0.05 will not have a statistically significant advantage.\\\n",
    "\n",
    "Here, I will define a function that checks the champions of each team and counts the wins and losses for teams with a specific championID (numerical parameter):"
   ]
  },
  {
   "cell_type": "code",
   "execution_count": 15,
   "id": "4d2abc49-82da-4fba-9225-df8d0ca9f920",
   "metadata": {},
   "outputs": [
    {
     "data": {
      "text/plain": [
       "0.299872658150015"
      ]
     },
     "execution_count": 15,
     "metadata": {},
     "output_type": "execute_result"
    }
   ],
   "source": [
    "team1_champs = games[['t1_champ1id', 't1_champ2id', 't1_champ3id', 't1_champ4id', 't1_champ5id']]\n",
    "team2_champs = games[['t2_champ1id', 't2_champ2id', 't2_champ3id', 't2_champ4id', 't2_champ5id']]\n",
    "\n",
    "def champion_win_pvalue(championID):\n",
    "    win_with_champ = 0 # number of times champ is on the team and wins\n",
    "    loss_with_champ = 0 # number of times champ is on the team and loses\n",
    "\n",
    "    for index, row in team1_champs.iterrows():\n",
    "        if championID in row.values: # row only contains champion IDs for team1, so other columns won't interfere\n",
    "            if games.loc[index]['winner'] == 1:\n",
    "                win_with_champ += 1\n",
    "            else:\n",
    "                loss_with_champ += 1\n",
    "\n",
    "    for index, row in team2_champs.iterrows():\n",
    "        if championID in row.values:\n",
    "            if games.loc[index]['winner'] == 1:\n",
    "                win_with_champ += 1\n",
    "            else:\n",
    "                loss_with_champ += 1\n",
    "    \n",
    "    if win_with_champ < loss_with_champ:\n",
    "        return 1 # we are looking for who is statistically more likely to make their team *win*- we don't care if they make their team lose\n",
    "                \n",
    "    expected = (win_with_champ + loss_with_champ) / 2 # if the champ has no effect on the outcome, we would expect there to be equal win/loss\n",
    "    test = stat.chisquare(f_obs = [win_with_champ, loss_with_champ], f_exp = [expected, expected])\n",
    "    return test.pvalue\n",
    "\n",
    "champion_win_pvalue(8) # championID 8 corresponds to Vladimir"
   ]
  },
  {
   "cell_type": "markdown",
   "id": "58d75d23-1d43-4fb6-a60a-eb805e82c3d2",
   "metadata": {},
   "source": [
    "Now we have a function that can take any individual champion, and tell us if they have a statistically significant correlation with making their team win! Although, we have to manually check the p-value and see if it's statistically significant (p < 0.05).\n",
    "\n",
    "What if we want to see all of the champs that have this statistically significant correlation? To do this, let's make our code a bit more efficient:"
   ]
  },
  {
   "cell_type": "code",
   "execution_count": 14,
   "id": "bb0c97d5-d911-4660-8a18-dcd91c21aaa6",
   "metadata": {},
   "outputs": [
    {
     "data": {
      "text/plain": [
       "['Soraka',\n",
       " 'Teemo',\n",
       " 'Tristana',\n",
       " 'Warwick',\n",
       " 'Miss Fortune',\n",
       " 'Tryndamere',\n",
       " 'Singed',\n",
       " 'Twitch',\n",
       " \"Cho'Gath\",\n",
       " 'Rammus',\n",
       " 'Anivia',\n",
       " 'Sona',\n",
       " 'Janna',\n",
       " 'Taric',\n",
       " 'Swain',\n",
       " 'Blitzcrank',\n",
       " 'Maokai',\n",
       " 'Jarvan IV',\n",
       " 'Wukong',\n",
       " 'Vayne',\n",
       " 'Yorick',\n",
       " 'Garen',\n",
       " 'Malzahar',\n",
       " 'Xerath',\n",
       " 'Shyvana',\n",
       " 'Ahri',\n",
       " 'Sejuani',\n",
       " 'Darius',\n",
       " 'Nami']"
      ]
     },
     "metadata": {},
     "output_type": "display_data"
    }
   ],
   "source": [
    "champ_win_dict = {} # here we will store the wins/losses, so we don't have to iterate over the dataframe 150+ times!\n",
    "\n",
    "# instantiate the dict with all the champions\n",
    "for x in champion_info:\n",
    "    champ_win_dict[x] = {}\n",
    "    champ_win_dict[x]['w'] = 0 # count the number of wins\n",
    "    champ_win_dict[x]['l'] = 0 # count the number of losses\n",
    "\n",
    "for index, row in games.iterrows():\n",
    "    if games.loc[index]['winner'] == 1:\n",
    "        champ_win_dict[str(row['t1_champ1id'])]['w'] += 1\n",
    "        champ_win_dict[str(row['t1_champ2id'])]['w'] += 1\n",
    "        champ_win_dict[str(row['t1_champ3id'])]['w'] += 1\n",
    "        champ_win_dict[str(row['t1_champ4id'])]['w'] += 1\n",
    "        champ_win_dict[str(row['t1_champ5id'])]['w'] += 1\n",
    "        champ_win_dict[str(row['t2_champ1id'])]['l'] += 1\n",
    "        champ_win_dict[str(row['t2_champ2id'])]['l'] += 1\n",
    "        champ_win_dict[str(row['t2_champ3id'])]['l'] += 1\n",
    "        champ_win_dict[str(row['t2_champ4id'])]['l'] += 1\n",
    "        champ_win_dict[str(row['t2_champ5id'])]['l'] += 1\n",
    "    else:\n",
    "        champ_win_dict[str(row['t1_champ1id'])]['l'] += 1\n",
    "        champ_win_dict[str(row['t1_champ2id'])]['l'] += 1\n",
    "        champ_win_dict[str(row['t1_champ3id'])]['l'] += 1\n",
    "        champ_win_dict[str(row['t1_champ4id'])]['l'] += 1\n",
    "        champ_win_dict[str(row['t1_champ5id'])]['l'] += 1\n",
    "        champ_win_dict[str(row['t2_champ1id'])]['w'] += 1\n",
    "        champ_win_dict[str(row['t2_champ2id'])]['w'] += 1\n",
    "        champ_win_dict[str(row['t2_champ3id'])]['w'] += 1\n",
    "        champ_win_dict[str(row['t2_champ4id'])]['w'] += 1\n",
    "        champ_win_dict[str(row['t2_champ5id'])]['w'] += 1\n",
    "\n",
    "best_champions = [] # statistically correlated best champions\n",
    "            \n",
    "for x in champion_info:\n",
    "    win = champ_win_dict[x]['w']\n",
    "    loss = champ_win_dict[x]['l']\n",
    "    expected = (win + loss) / 2\n",
    "    \n",
    "    # now we want to apply a chi-square test to every champion\n",
    "    if expected < 300:\n",
    "        champ_win_dict[x]['p'] = 1  # not enough games to be statistically significant\n",
    "        continue\n",
    "    \n",
    "    if win < loss:\n",
    "        champ_win_dict[x]['p'] = 1  # we only care if they win more than they lose\n",
    "        continue\n",
    "        \n",
    "    test = stat.chisquare(f_obs = [win, loss], f_exp = [expected, expected])\n",
    "    champ_win_dict[x]['p'] = test.pvalue\n",
    "    \n",
    "    if test.pvalue <= 0.05:\n",
    "        best_champions.append(champion_info[x][\"name\"])\n",
    "    \n",
    "display(best_champions)    "
   ]
  },
  {
   "cell_type": "markdown",
   "id": "21f73dc4-d147-4dfd-9dff-bc8e768ea3bc",
   "metadata": {},
   "source": [
    "According to our chi-square test, these champions are correlated with their team's victory with p-value <= 0.05 across this dataset. This is one of the primary metrics used to determine whether a champion is considered 'meta' (the strongest available strategy). If you compare this to an online tier list made by high-ranked LoL players, you'll notice most of them appear on the list:"
   ]
  },
  {
   "cell_type": "markdown",
   "id": "b849e584-ad58-4dde-bdaa-5559eff45890",
   "metadata": {},
   "source": [
    "3d bar graph of win percentages by secondary objectives"
   ]
  },
  {
   "cell_type": "code",
   "execution_count": 97,
   "id": "1bb157d7-9051-4a6f-9007-42462e86a14f",
   "metadata": {},
   "outputs": [
    {
     "data": {
      "image/png": "[encoded data removed]",
      "text/plain": [
       "<Figure size 1728x864 with 1 Axes>"
      ]
     },
     "metadata": {
      "needs_background": "light"
     },
     "output_type": "display_data"
    }
   ],
   "source": [
    "import numpy as np\n",
    "import matplotlib.pyplot as plt\n",
    "\n",
    "# first we need a grid for the number of dragons and heralds\n",
    "data = {} # keys will be # of dragons, values will be a new dictionary with number of barons\n",
    "# values of the data[# of drag][# of baron] = [wins, losses]\n",
    "for dragons in range(0,7):\n",
    "    data[dragons] = {}\n",
    "    for barons in range(0,6):\n",
    "        data[dragons][barons] = [0,0]\n",
    "\n",
    "for index, row in games.iterrows():\n",
    "    if row['winner'] == 1:\n",
    "        num_dragons = row['t1_dragonKills']\n",
    "        num_barons = row['t1_baronKills'] + row['t1_riftHeraldKills']\n",
    "        t = data[num_dragons][num_barons]\n",
    "        data[num_dragons][num_barons] = [t[0] + 1, t[1]]\n",
    "        \n",
    "        num_dragons = row['t2_dragonKills']\n",
    "        num_barons = row['t2_baronKills'] + row['t2_riftHeraldKills']\n",
    "        t = data[num_dragons][num_barons]\n",
    "        data[num_dragons][num_barons] = [t[0], t[1] + 1]\n",
    "    else:\n",
    "        num_dragons = row['t1_dragonKills']\n",
    "        num_barons = row['t1_baronKills'] + row['t1_riftHeraldKills']\n",
    "        t = data[num_dragons][num_barons]\n",
    "        data[num_dragons][num_barons] = [t[0], t[1] + 1]\n",
    "        \n",
    "        num_dragons = row['t2_dragonKills']\n",
    "        num_barons = row['t2_baronKills'] + row['t2_riftHeraldKills']\n",
    "        t = data[num_dragons][num_barons]\n",
    "        data[num_dragons][num_barons] = [t[0] + 1, t[1]]\n",
    "        \n",
    "for dragons in range(0,7):\n",
    "    for barons in range(0,6):\n",
    "        t = data[dragons][barons]\n",
    "        total_games = t[0] + t[1]\n",
    "        if total_games > 0:\n",
    "            data[dragons][barons] = t[0] / total_games\n",
    "        else:\n",
    "            data[dragons][barons] = 0\n",
    "            \n",
    "data_matrix = np.zeros((7, 6))\n",
    "for dragons in range(0,7):\n",
    "    for barons in range(0,6):\n",
    "        data_matrix[dragons][barons] = data[dragons][barons]\n",
    "        \n",
    "#display(data_matrix)\n",
    "\n",
    "# setup the figure and axes\n",
    "fig = plt.figure(figsize=(24, 12))\n",
    "ax1 = fig.add_subplot(121, projection='3d')\n",
    "\n",
    "# fake data\n",
    "_x = np.arange(7)\n",
    "_y = np.arange(6)\n",
    "_xx, _yy = np.meshgrid(_x, _y)\n",
    "x, y = _xx.ravel(), _yy.ravel()\n",
    "\n",
    "top = data_matrix.flatten()\n",
    "bottom = np.zeros_like(top)\n",
    "width = depth = 1\n",
    "\n",
    "ax1.bar3d(x, y, bottom, width, depth, top, shade=True)\n",
    "ax1.set_title('Shaded')\n",
    "ax1.invert_xaxis()\n",
    "\n",
    "plt.show()"
   ]
  },
  {
   "cell_type": "markdown",
   "id": "b1ef0ac2-dc9c-4cac-b42d-90e67e3ba5ac",
   "metadata": {
    "tags": []
   },
   "source": [
    "# Viewing Team Composition\n",
    "We will use the *json* library again to convert the numerical identifier for champions into the class of each champion, which can one or any combination of the following: Mage, Tank, Support, Marksman, Assassin, and Fighter."
   ]
  },
  {
   "cell_type": "code",
   "execution_count": 55,
   "id": "c1c89230-ea2c-429b-a0d0-42d195a857c5",
   "metadata": {},
   "outputs": [
    {
     "data": {
      "text/html": [
       "<div>\n",
       "<style scoped>\n",
       "    .dataframe tbody tr th:only-of-type {\n",
       "        vertical-align: middle;\n",
       "    }\n",
       "\n",
       "    .dataframe tbody tr th {\n",
       "        vertical-align: top;\n",
       "    }\n",
       "\n",
       "    .dataframe thead th {\n",
       "        text-align: right;\n",
       "    }\n",
       "</style>\n",
       "<table border=\"1\" class=\"dataframe\">\n",
       "  <thead>\n",
       "    <tr style=\"text-align: right;\">\n",
       "      <th></th>\n",
       "      <th>t1_champ1id</th>\n",
       "      <th>t1_champ1_tags</th>\n",
       "    </tr>\n",
       "  </thead>\n",
       "  <tbody>\n",
       "    <tr>\n",
       "      <th>0</th>\n",
       "      <td>8</td>\n",
       "      <td>[Mage, Tank]</td>\n",
       "    </tr>\n",
       "    <tr>\n",
       "      <th>1</th>\n",
       "      <td>119</td>\n",
       "      <td>[Marksman]</td>\n",
       "    </tr>\n",
       "    <tr>\n",
       "      <th>2</th>\n",
       "      <td>18</td>\n",
       "      <td>[Marksman, Assassin]</td>\n",
       "    </tr>\n",
       "    <tr>\n",
       "      <th>3</th>\n",
       "      <td>57</td>\n",
       "      <td>[Tank, Mage]</td>\n",
       "    </tr>\n",
       "    <tr>\n",
       "      <th>4</th>\n",
       "      <td>19</td>\n",
       "      <td>[Fighter, Tank]</td>\n",
       "    </tr>\n",
       "    <tr>\n",
       "      <th>5</th>\n",
       "      <td>40</td>\n",
       "      <td>[Support, Mage]</td>\n",
       "    </tr>\n",
       "  </tbody>\n",
       "</table>\n",
       "</div>"
      ],
      "text/plain": [
       "   t1_champ1id        t1_champ1_tags\n",
       "0            8          [Mage, Tank]\n",
       "1          119            [Marksman]\n",
       "2           18  [Marksman, Assassin]\n",
       "3           57          [Tank, Mage]\n",
       "4           19       [Fighter, Tank]\n",
       "5           40       [Support, Mage]"
      ]
     },
     "metadata": {},
     "output_type": "display_data"
    }
   ],
   "source": [
    "champion_info2 = {}; # this will be a dictionary mapping champion ID to a set of parameters\n",
    "\n",
    "with open(\"/home/jovyan/notebooks/Data/champion_info_2.json\", \"r\") as read_file:\n",
    "    champion_info2 = json.load(read_file)\n",
    "    champion_info2 = champion_info2['data'] # we don't need the game version and other extraneous data\n",
    "\n",
    "def champ_id_map_tags(id): # this function will serve as a map\n",
    "    return champion_info2[champion_info[id]['key']]['tags']\n",
    "\n",
    "# the dataset gives numerical id's, while all json keys are arrays of classes\n",
    "games['t1_champ1_tags'] = games['t1_champ1id'].astype(str)\n",
    "games['t1_champ1_tags'] = games['t1_champ1_tags'].map(champ_id_map_tags) # apply id string -> classes mapping function\n",
    "display(games[['t1_champ1id', 't1_champ1_tags']].head(6))"
   ]
  },
  {
   "cell_type": "markdown",
   "id": "1723f741-d67d-41d6-ab8c-1a2ea7e35848",
   "metadata": {},
   "source": [
    "We will now apply this conversion to the rest of the champions."
   ]
  },
  {
   "cell_type": "code",
   "execution_count": 61,
   "id": "61fec7c1-4566-4bb2-b65e-6a02fe8e4f96",
   "metadata": {},
   "outputs": [
    {
     "data": {
      "text/html": [
       "<div>\n",
       "<style scoped>\n",
       "    .dataframe tbody tr th:only-of-type {\n",
       "        vertical-align: middle;\n",
       "    }\n",
       "\n",
       "    .dataframe tbody tr th {\n",
       "        vertical-align: top;\n",
       "    }\n",
       "\n",
       "    .dataframe thead th {\n",
       "        text-align: right;\n",
       "    }\n",
       "</style>\n",
       "<table border=\"1\" class=\"dataframe\">\n",
       "  <thead>\n",
       "    <tr style=\"text-align: right;\">\n",
       "      <th></th>\n",
       "      <th>t1_champ1_tags</th>\n",
       "      <th>t1_champ2_tags</th>\n",
       "      <th>t1_champ3_tags</th>\n",
       "      <th>t1_champ4_tags</th>\n",
       "      <th>t1_champ5_tags</th>\n",
       "      <th>t2_champ1_tags</th>\n",
       "      <th>t2_champ2_tags</th>\n",
       "      <th>t2_champ3_tags</th>\n",
       "      <th>t2_champ4_tags</th>\n",
       "      <th>t2_champ5_tags</th>\n",
       "    </tr>\n",
       "  </thead>\n",
       "  <tbody>\n",
       "    <tr>\n",
       "      <th>0</th>\n",
       "      <td>[Mage, Tank]</td>\n",
       "      <td>[Support, Mage]</td>\n",
       "      <td>[Marksman, Mage]</td>\n",
       "      <td>[Assassin, Fighter]</td>\n",
       "      <td>[Mage]</td>\n",
       "      <td>[Marksman]</td>\n",
       "      <td>[Marksman]</td>\n",
       "      <td>[Fighter, Tank]</td>\n",
       "      <td>[Assassin, Fighter]</td>\n",
       "      <td>[Support, Fighter]</td>\n",
       "    </tr>\n",
       "    <tr>\n",
       "      <th>1</th>\n",
       "      <td>[Marksman]</td>\n",
       "      <td>[Fighter, Assassin]</td>\n",
       "      <td>[Assassin, Fighter]</td>\n",
       "      <td>[Fighter, Support]</td>\n",
       "      <td>[Assassin]</td>\n",
       "      <td>[Tank, Fighter]</td>\n",
       "      <td>[Mage, Support]</td>\n",
       "      <td>[Fighter, Tank]</td>\n",
       "      <td>[Fighter, Assassin]</td>\n",
       "      <td>[Fighter, Assassin]</td>\n",
       "    </tr>\n",
       "    <tr>\n",
       "      <th>2</th>\n",
       "      <td>[Marksman, Assassin]</td>\n",
       "      <td>[Fighter, Assassin]</td>\n",
       "      <td>[Support, Mage]</td>\n",
       "      <td>[Fighter, Mage]</td>\n",
       "      <td>[Assassin, Mage]</td>\n",
       "      <td>[Mage]</td>\n",
       "      <td>[Support, Fighter]</td>\n",
       "      <td>[Fighter, Marksman]</td>\n",
       "      <td>[Fighter, Assassin]</td>\n",
       "      <td>[Marksman, Support]</td>\n",
       "    </tr>\n",
       "    <tr>\n",
       "      <th>3</th>\n",
       "      <td>[Tank, Mage]</td>\n",
       "      <td>[Mage]</td>\n",
       "      <td>[Marksman, Assassin]</td>\n",
       "      <td>[Mage, Support]</td>\n",
       "      <td>[Fighter, Tank]</td>\n",
       "      <td>[Mage, Assassin]</td>\n",
       "      <td>[Fighter, Tank]</td>\n",
       "      <td>[Support, Fighter]</td>\n",
       "      <td>[Fighter, Assassin]</td>\n",
       "      <td>[Marksman, Support]</td>\n",
       "    </tr>\n",
       "    <tr>\n",
       "      <th>4</th>\n",
       "      <td>[Fighter, Tank]</td>\n",
       "      <td>[Marksman, Assassin]</td>\n",
       "      <td>[Support, Mage]</td>\n",
       "      <td>[Marksman]</td>\n",
       "      <td>[Mage, Support]</td>\n",
       "      <td>[Support, Mage]</td>\n",
       "      <td>[Tank, Fighter]</td>\n",
       "      <td>[Fighter, Assassin]</td>\n",
       "      <td>[Assassin, Mage]</td>\n",
       "      <td>[Marksman]</td>\n",
       "    </tr>\n",
       "    <tr>\n",
       "      <th>...</th>\n",
       "      <td>...</td>\n",
       "      <td>...</td>\n",
       "      <td>...</td>\n",
       "      <td>...</td>\n",
       "      <td>...</td>\n",
       "      <td>...</td>\n",
       "      <td>...</td>\n",
       "      <td>...</td>\n",
       "      <td>...</td>\n",
       "      <td>...</td>\n",
       "    </tr>\n",
       "    <tr>\n",
       "      <th>51485</th>\n",
       "      <td>[Fighter, Tank]</td>\n",
       "      <td>[Marksman]</td>\n",
       "      <td>[Assassin, Fighter]</td>\n",
       "      <td>[Support, Mage]</td>\n",
       "      <td>[Fighter, Assassin]</td>\n",
       "      <td>[Mage]</td>\n",
       "      <td>[Fighter, Tank]</td>\n",
       "      <td>[Marksman, Assassin]</td>\n",
       "      <td>[Support, Mage]</td>\n",
       "      <td>[Fighter, Mage]</td>\n",
       "    </tr>\n",
       "    <tr>\n",
       "      <th>51486</th>\n",
       "      <td>[Mage, Assassin]</td>\n",
       "      <td>[Tank, Mage]</td>\n",
       "      <td>[Tank, Mage]</td>\n",
       "      <td>[Support, Fighter]</td>\n",
       "      <td>[Marksman, Assassin]</td>\n",
       "      <td>[Fighter, Tank]</td>\n",
       "      <td>[Marksman]</td>\n",
       "      <td>[Tank, Support]</td>\n",
       "      <td>[Fighter, Tank]</td>\n",
       "      <td>[Mage]</td>\n",
       "    </tr>\n",
       "    <tr>\n",
       "      <th>51487</th>\n",
       "      <td>[Fighter, Assassin]</td>\n",
       "      <td>[Marksman, Assassin]</td>\n",
       "      <td>[Support, Mage]</td>\n",
       "      <td>[Marksman, Mage]</td>\n",
       "      <td>[Fighter, Mage]</td>\n",
       "      <td>[Mage]</td>\n",
       "      <td>[Marksman]</td>\n",
       "      <td>[Tank, Fighter]</td>\n",
       "      <td>[Mage, Support]</td>\n",
       "      <td>[Mage, Support]</td>\n",
       "    </tr>\n",
       "    <tr>\n",
       "      <th>51488</th>\n",
       "      <td>[Assassin, Fighter]</td>\n",
       "      <td>[Marksman]</td>\n",
       "      <td>[Fighter, Tank]</td>\n",
       "      <td>[Support, Tank]</td>\n",
       "      <td>[Mage, Support]</td>\n",
       "      <td>[Marksman]</td>\n",
       "      <td>[Assassin, Fighter]</td>\n",
       "      <td>[Mage, Support]</td>\n",
       "      <td>[Mage]</td>\n",
       "      <td>[Assassin, Fighter]</td>\n",
       "    </tr>\n",
       "    <tr>\n",
       "      <th>51489</th>\n",
       "      <td>[Tank, Support]</td>\n",
       "      <td>[Mage]</td>\n",
       "      <td>[Fighter, Tank]</td>\n",
       "      <td>[Tank, Fighter]</td>\n",
       "      <td>[Marksman, Assassin]</td>\n",
       "      <td>[Mage]</td>\n",
       "      <td>[Marksman, Assassin]</td>\n",
       "      <td>[Marksman, Assassin]</td>\n",
       "      <td>[Assassin, Fighter]</td>\n",
       "      <td>[Fighter, Tank]</td>\n",
       "    </tr>\n",
       "  </tbody>\n",
       "</table>\n",
       "<p>51490 rows × 10 columns</p>\n",
       "</div>"
      ],
      "text/plain": [
       "             t1_champ1_tags        t1_champ2_tags        t1_champ3_tags  \\\n",
       "0              [Mage, Tank]       [Support, Mage]      [Marksman, Mage]   \n",
       "1                [Marksman]   [Fighter, Assassin]   [Assassin, Fighter]   \n",
       "2      [Marksman, Assassin]   [Fighter, Assassin]       [Support, Mage]   \n",
       "3              [Tank, Mage]                [Mage]  [Marksman, Assassin]   \n",
       "4           [Fighter, Tank]  [Marksman, Assassin]       [Support, Mage]   \n",
       "...                     ...                   ...                   ...   \n",
       "51485       [Fighter, Tank]            [Marksman]   [Assassin, Fighter]   \n",
       "51486      [Mage, Assassin]          [Tank, Mage]          [Tank, Mage]   \n",
       "51487   [Fighter, Assassin]  [Marksman, Assassin]       [Support, Mage]   \n",
       "51488   [Assassin, Fighter]            [Marksman]       [Fighter, Tank]   \n",
       "51489       [Tank, Support]                [Mage]       [Fighter, Tank]   \n",
       "\n",
       "            t1_champ4_tags        t1_champ5_tags    t2_champ1_tags  \\\n",
       "0      [Assassin, Fighter]                [Mage]        [Marksman]   \n",
       "1       [Fighter, Support]            [Assassin]   [Tank, Fighter]   \n",
       "2          [Fighter, Mage]      [Assassin, Mage]            [Mage]   \n",
       "3          [Mage, Support]       [Fighter, Tank]  [Mage, Assassin]   \n",
       "4               [Marksman]       [Mage, Support]   [Support, Mage]   \n",
       "...                    ...                   ...               ...   \n",
       "51485      [Support, Mage]   [Fighter, Assassin]            [Mage]   \n",
       "51486   [Support, Fighter]  [Marksman, Assassin]   [Fighter, Tank]   \n",
       "51487     [Marksman, Mage]       [Fighter, Mage]            [Mage]   \n",
       "51488      [Support, Tank]       [Mage, Support]        [Marksman]   \n",
       "51489      [Tank, Fighter]  [Marksman, Assassin]            [Mage]   \n",
       "\n",
       "             t2_champ2_tags        t2_champ3_tags       t2_champ4_tags  \\\n",
       "0                [Marksman]       [Fighter, Tank]  [Assassin, Fighter]   \n",
       "1           [Mage, Support]       [Fighter, Tank]  [Fighter, Assassin]   \n",
       "2        [Support, Fighter]   [Fighter, Marksman]  [Fighter, Assassin]   \n",
       "3           [Fighter, Tank]    [Support, Fighter]  [Fighter, Assassin]   \n",
       "4           [Tank, Fighter]   [Fighter, Assassin]     [Assassin, Mage]   \n",
       "...                     ...                   ...                  ...   \n",
       "51485       [Fighter, Tank]  [Marksman, Assassin]      [Support, Mage]   \n",
       "51486            [Marksman]       [Tank, Support]      [Fighter, Tank]   \n",
       "51487            [Marksman]       [Tank, Fighter]      [Mage, Support]   \n",
       "51488   [Assassin, Fighter]       [Mage, Support]               [Mage]   \n",
       "51489  [Marksman, Assassin]  [Marksman, Assassin]  [Assassin, Fighter]   \n",
       "\n",
       "            t2_champ5_tags  \n",
       "0       [Support, Fighter]  \n",
       "1      [Fighter, Assassin]  \n",
       "2      [Marksman, Support]  \n",
       "3      [Marksman, Support]  \n",
       "4               [Marksman]  \n",
       "...                    ...  \n",
       "51485      [Fighter, Mage]  \n",
       "51486               [Mage]  \n",
       "51487      [Mage, Support]  \n",
       "51488  [Assassin, Fighter]  \n",
       "51489      [Fighter, Tank]  \n",
       "\n",
       "[51490 rows x 10 columns]"
      ]
     },
     "metadata": {},
     "output_type": "display_data"
    }
   ],
   "source": [
    "# the dataset gives numerical id's, while all json tags are arrays of classes\n",
    "games['t1_champ2_tags'] = games['t1_champ2id'].astype(str)\n",
    "games['t1_champ2_tags'] = games['t1_champ2_tags'].map(champ_id_map_tags) # apply id string -> classes mapping function\n",
    "games['t1_champ3_tags'] = games['t1_champ3id'].astype(str)\n",
    "games['t1_champ3_tags'] = games['t1_champ3_tags'].map(champ_id_map_tags) # apply id string -> classes mapping function\n",
    "games['t1_champ4_tags'] = games['t1_champ4id'].astype(str)\n",
    "games['t1_champ4_tags'] = games['t1_champ4_tags'].map(champ_id_map_tags) # apply id string -> classes mapping function\n",
    "games['t1_champ5_tags'] = games['t1_champ5id'].astype(str)\n",
    "games['t1_champ5_tags'] = games['t1_champ5_tags'].map(champ_id_map_tags) # apply id string -> classes mapping function\n",
    "games['t2_champ1_tags'] = games['t2_champ1id'].astype(str)\n",
    "games['t2_champ1_tags'] = games['t2_champ1_tags'].map(champ_id_map_tags) # apply id string -> classes mapping function\n",
    "games['t2_champ2_tags'] = games['t2_champ2id'].astype(str)\n",
    "games['t2_champ2_tags'] = games['t2_champ2_tags'].map(champ_id_map_tags) # apply id string -> classes mapping function\n",
    "games['t2_champ3_tags'] = games['t2_champ3id'].astype(str)\n",
    "games['t2_champ3_tags'] = games['t2_champ3_tags'].map(champ_id_map_tags) # apply id string -> classes mapping function\n",
    "games['t2_champ4_tags'] = games['t2_champ4id'].astype(str)\n",
    "games['t2_champ4_tags'] = games['t2_champ4_tags'].map(champ_id_map_tags) # apply id string -> classes mapping function\n",
    "games['t2_champ5_tags'] = games['t2_champ5id'].astype(str)\n",
    "games['t2_champ5_tags'] = games['t2_champ5_tags'].map(champ_id_map_tags) # apply id string -> classes mapping function\n",
    "\n",
    "games_classes = games.filter(['t1_champ1_tags','t1_champ2_tags','t1_champ3_tags','t1_champ4_tags','t1_champ5_tags',\n",
    "                    't2_champ1_tags','t2_champ2_tags','t2_champ3_tags','t2_champ4_tags','t2_champ5_tags'], axis=1)\n",
    "display(games_classes)"
   ]
  },
  {
   "cell_type": "markdown",
   "id": "60b33147-ec6d-417d-80c8-97ef4f5cd200",
   "metadata": {},
   "source": [
    "Now that we have converted all champion identifiers into the classes of the champion, we will keep track of the amount of champions of each class. After totalling the number of each class of champions, we will be able to calculate the average of each class in each team. "
   ]
  },
  {
   "cell_type": "code",
   "execution_count": 67,
   "id": "b1f165c0-0831-48b0-b0d8-87b8af64fac2",
   "metadata": {},
   "outputs": [
    {
     "name": "stdout",
     "output_type": "stream",
     "text": [
      "Mage :  1.6676830452515052\n",
      "Tank :  1.1501942124684406\n",
      "Support :  1.1605166051660516\n",
      "Marksman :  1.2258496795494271\n",
      "Assassin :  1.5920761312876286\n",
      "Fighter :  2.1949116333268597\n"
     ]
    }
   ],
   "source": [
    "import numpy as np\n",
    "\n",
    "classes_count = {} # this dictionary will be a dictionary mapping the amount of champions to each class the champion falls under\n",
    "\n",
    "# this for loop will iterate through each game\n",
    "for i, game in games_classes.iterrows():\n",
    "    # this for loop will iterate through each column (should be only the classes of two teams' champions)\n",
    "    for champion in game:\n",
    "        # this for loop will iterate through each class of each champion\n",
    "        for champion_class in champion:\n",
    "            if champion_class in classes_count:\n",
    "                classes_count[champion_class] += 1\n",
    "            else:\n",
    "                classes_count[champion_class] = 1\n",
    "\n",
    "class_avgs = {} # this dictionary will be a dictionary mapping the average amount of each class in each team\n",
    "for champion_class, class_sum in classes_count.items():\n",
    "    class_avg = class_sum/(2 * 51490) # two teams for each of 51490 games\n",
    "    class_avgs[champion_class] = class_avg\n",
    "    print(champion_class, ': ', class_avg)"
   ]
  },
  {
   "cell_type": "markdown",
   "id": "1d7fcf69-d3da-4344-85e4-52071bf7853b",
   "metadata": {},
   "source": [
    "Here is a visual display of the average team composition:"
   ]
  },
  {
   "cell_type": "code",
   "execution_count": 98,
   "id": "cd8249a1-a12f-41a2-9597-53ce442b3005",
   "metadata": {},
   "outputs": [
    {
     "data": {
      "image/png": "[encoded data removed]",
      "text/plain": [
       "<Figure size 864x576 with 1 Axes>"
      ]
     },
     "metadata": {
      "needs_background": "light"
     },
     "output_type": "display_data"
    }
   ],
   "source": [
    "import matplotlib.pyplot as plt\n",
    "team_comp_fig = plt.figure()\n",
    "ax = team_comp_fig.add_axes([0,0,1,1])\n",
    "champion_class = class_avgs.keys()\n",
    "class_avg = class_avgs.values()\n",
    "bars = ax.bar(champion_class,class_avg)\n",
    "\n",
    "# configurations for the bar graph\n",
    "ax.bar_label(bars, fontsize= 20)\n",
    "plt.title(\"Bar Graph of Average Team Composition (of each Champion Class)\", fontsize=30)\n",
    "plt.xlabel('Champion Class', fontsize=15)\n",
    "plt.ylabel('Average Champion Count (per Team)', fontsize=15)\n",
    "# plt.legend(title='TeamIDs',title_fontsize=15,loc='center left', bbox_to_anchor=(1.01, 0.5))\n",
    "team_comp_fig.set_figwidth(12)\n",
    "team_comp_fig.set_figheight(8)\n",
    "ax.yaxis.grid(True, color='#EEEEEE')\n",
    "plt.show()"
   ]
  },
  {
   "cell_type": "markdown",
   "id": "0607fb12-a684-4e74-b3b5-05305b0de82c",
   "metadata": {},
   "source": [
    "Say, we observe the team's composition of the winning and losing teams. Possibly the team composition plays a role in winning the game. We will do this by creating two separate dictionaries, one for keeping track of the winning team's compositions and another for keeping track those of the losing teams. We will take similar steps to calculate the average team composition for winning teams and for losing teams too."
   ]
  },
  {
   "cell_type": "code",
   "execution_count": 108,
   "id": "4197d948-04ea-4a0e-83ba-9327f5356944",
   "metadata": {},
   "outputs": [
    {
     "data": {
      "text/html": [
       "<div>\n",
       "<style scoped>\n",
       "    .dataframe tbody tr th:only-of-type {\n",
       "        vertical-align: middle;\n",
       "    }\n",
       "\n",
       "    .dataframe tbody tr th {\n",
       "        vertical-align: top;\n",
       "    }\n",
       "\n",
       "    .dataframe thead th {\n",
       "        text-align: right;\n",
       "    }\n",
       "</style>\n",
       "<table border=\"1\" class=\"dataframe\">\n",
       "  <thead>\n",
       "    <tr style=\"text-align: right;\">\n",
       "      <th></th>\n",
       "      <th>winner</th>\n",
       "      <th>t1_champ1_tags</th>\n",
       "      <th>t1_champ2_tags</th>\n",
       "      <th>t1_champ3_tags</th>\n",
       "      <th>t1_champ4_tags</th>\n",
       "      <th>t1_champ5_tags</th>\n",
       "      <th>t2_champ1_tags</th>\n",
       "      <th>t2_champ2_tags</th>\n",
       "      <th>t2_champ3_tags</th>\n",
       "      <th>t2_champ4_tags</th>\n",
       "      <th>t2_champ5_tags</th>\n",
       "    </tr>\n",
       "  </thead>\n",
       "  <tbody>\n",
       "    <tr>\n",
       "      <th>0</th>\n",
       "      <td>1</td>\n",
       "      <td>[Mage, Tank]</td>\n",
       "      <td>[Support, Mage]</td>\n",
       "      <td>[Marksman, Mage]</td>\n",
       "      <td>[Assassin, Fighter]</td>\n",
       "      <td>[Mage]</td>\n",
       "      <td>[Marksman]</td>\n",
       "      <td>[Marksman]</td>\n",
       "      <td>[Fighter, Tank]</td>\n",
       "      <td>[Assassin, Fighter]</td>\n",
       "      <td>[Support, Fighter]</td>\n",
       "    </tr>\n",
       "    <tr>\n",
       "      <th>1</th>\n",
       "      <td>1</td>\n",
       "      <td>[Marksman]</td>\n",
       "      <td>[Fighter, Assassin]</td>\n",
       "      <td>[Assassin, Fighter]</td>\n",
       "      <td>[Fighter, Support]</td>\n",
       "      <td>[Assassin]</td>\n",
       "      <td>[Tank, Fighter]</td>\n",
       "      <td>[Mage, Support]</td>\n",
       "      <td>[Fighter, Tank]</td>\n",
       "      <td>[Fighter, Assassin]</td>\n",
       "      <td>[Fighter, Assassin]</td>\n",
       "    </tr>\n",
       "    <tr>\n",
       "      <th>2</th>\n",
       "      <td>1</td>\n",
       "      <td>[Marksman, Assassin]</td>\n",
       "      <td>[Fighter, Assassin]</td>\n",
       "      <td>[Support, Mage]</td>\n",
       "      <td>[Fighter, Mage]</td>\n",
       "      <td>[Assassin, Mage]</td>\n",
       "      <td>[Mage]</td>\n",
       "      <td>[Support, Fighter]</td>\n",
       "      <td>[Fighter, Marksman]</td>\n",
       "      <td>[Fighter, Assassin]</td>\n",
       "      <td>[Marksman, Support]</td>\n",
       "    </tr>\n",
       "    <tr>\n",
       "      <th>3</th>\n",
       "      <td>1</td>\n",
       "      <td>[Tank, Mage]</td>\n",
       "      <td>[Mage]</td>\n",
       "      <td>[Marksman, Assassin]</td>\n",
       "      <td>[Mage, Support]</td>\n",
       "      <td>[Fighter, Tank]</td>\n",
       "      <td>[Mage, Assassin]</td>\n",
       "      <td>[Fighter, Tank]</td>\n",
       "      <td>[Support, Fighter]</td>\n",
       "      <td>[Fighter, Assassin]</td>\n",
       "      <td>[Marksman, Support]</td>\n",
       "    </tr>\n",
       "    <tr>\n",
       "      <th>4</th>\n",
       "      <td>1</td>\n",
       "      <td>[Fighter, Tank]</td>\n",
       "      <td>[Marksman, Assassin]</td>\n",
       "      <td>[Support, Mage]</td>\n",
       "      <td>[Marksman]</td>\n",
       "      <td>[Mage, Support]</td>\n",
       "      <td>[Support, Mage]</td>\n",
       "      <td>[Tank, Fighter]</td>\n",
       "      <td>[Fighter, Assassin]</td>\n",
       "      <td>[Assassin, Mage]</td>\n",
       "      <td>[Marksman]</td>\n",
       "    </tr>\n",
       "    <tr>\n",
       "      <th>...</th>\n",
       "      <td>...</td>\n",
       "      <td>...</td>\n",
       "      <td>...</td>\n",
       "      <td>...</td>\n",
       "      <td>...</td>\n",
       "      <td>...</td>\n",
       "      <td>...</td>\n",
       "      <td>...</td>\n",
       "      <td>...</td>\n",
       "      <td>...</td>\n",
       "      <td>...</td>\n",
       "    </tr>\n",
       "    <tr>\n",
       "      <th>51485</th>\n",
       "      <td>2</td>\n",
       "      <td>[Fighter, Tank]</td>\n",
       "      <td>[Marksman]</td>\n",
       "      <td>[Assassin, Fighter]</td>\n",
       "      <td>[Support, Mage]</td>\n",
       "      <td>[Fighter, Assassin]</td>\n",
       "      <td>[Mage]</td>\n",
       "      <td>[Fighter, Tank]</td>\n",
       "      <td>[Marksman, Assassin]</td>\n",
       "      <td>[Support, Mage]</td>\n",
       "      <td>[Fighter, Mage]</td>\n",
       "    </tr>\n",
       "    <tr>\n",
       "      <th>51486</th>\n",
       "      <td>2</td>\n",
       "      <td>[Mage, Assassin]</td>\n",
       "      <td>[Tank, Mage]</td>\n",
       "      <td>[Tank, Mage]</td>\n",
       "      <td>[Support, Fighter]</td>\n",
       "      <td>[Marksman, Assassin]</td>\n",
       "      <td>[Fighter, Tank]</td>\n",
       "      <td>[Marksman]</td>\n",
       "      <td>[Tank, Support]</td>\n",
       "      <td>[Fighter, Tank]</td>\n",
       "      <td>[Mage]</td>\n",
       "    </tr>\n",
       "    <tr>\n",
       "      <th>51487</th>\n",
       "      <td>2</td>\n",
       "      <td>[Fighter, Assassin]</td>\n",
       "      <td>[Marksman, Assassin]</td>\n",
       "      <td>[Support, Mage]</td>\n",
       "      <td>[Marksman, Mage]</td>\n",
       "      <td>[Fighter, Mage]</td>\n",
       "      <td>[Mage]</td>\n",
       "      <td>[Marksman]</td>\n",
       "      <td>[Tank, Fighter]</td>\n",
       "      <td>[Mage, Support]</td>\n",
       "      <td>[Mage, Support]</td>\n",
       "    </tr>\n",
       "    <tr>\n",
       "      <th>51488</th>\n",
       "      <td>2</td>\n",
       "      <td>[Assassin, Fighter]</td>\n",
       "      <td>[Marksman]</td>\n",
       "      <td>[Fighter, Tank]</td>\n",
       "      <td>[Support, Tank]</td>\n",
       "      <td>[Mage, Support]</td>\n",
       "      <td>[Marksman]</td>\n",
       "      <td>[Assassin, Fighter]</td>\n",
       "      <td>[Mage, Support]</td>\n",
       "      <td>[Mage]</td>\n",
       "      <td>[Assassin, Fighter]</td>\n",
       "    </tr>\n",
       "    <tr>\n",
       "      <th>51489</th>\n",
       "      <td>1</td>\n",
       "      <td>[Tank, Support]</td>\n",
       "      <td>[Mage]</td>\n",
       "      <td>[Fighter, Tank]</td>\n",
       "      <td>[Tank, Fighter]</td>\n",
       "      <td>[Marksman, Assassin]</td>\n",
       "      <td>[Mage]</td>\n",
       "      <td>[Marksman, Assassin]</td>\n",
       "      <td>[Marksman, Assassin]</td>\n",
       "      <td>[Assassin, Fighter]</td>\n",
       "      <td>[Fighter, Tank]</td>\n",
       "    </tr>\n",
       "  </tbody>\n",
       "</table>\n",
       "<p>51490 rows × 11 columns</p>\n",
       "</div>"
      ],
      "text/plain": [
       "       winner        t1_champ1_tags        t1_champ2_tags  \\\n",
       "0           1          [Mage, Tank]       [Support, Mage]   \n",
       "1           1            [Marksman]   [Fighter, Assassin]   \n",
       "2           1  [Marksman, Assassin]   [Fighter, Assassin]   \n",
       "3           1          [Tank, Mage]                [Mage]   \n",
       "4           1       [Fighter, Tank]  [Marksman, Assassin]   \n",
       "...       ...                   ...                   ...   \n",
       "51485       2       [Fighter, Tank]            [Marksman]   \n",
       "51486       2      [Mage, Assassin]          [Tank, Mage]   \n",
       "51487       2   [Fighter, Assassin]  [Marksman, Assassin]   \n",
       "51488       2   [Assassin, Fighter]            [Marksman]   \n",
       "51489       1       [Tank, Support]                [Mage]   \n",
       "\n",
       "             t1_champ3_tags       t1_champ4_tags        t1_champ5_tags  \\\n",
       "0          [Marksman, Mage]  [Assassin, Fighter]                [Mage]   \n",
       "1       [Assassin, Fighter]   [Fighter, Support]            [Assassin]   \n",
       "2           [Support, Mage]      [Fighter, Mage]      [Assassin, Mage]   \n",
       "3      [Marksman, Assassin]      [Mage, Support]       [Fighter, Tank]   \n",
       "4           [Support, Mage]           [Marksman]       [Mage, Support]   \n",
       "...                     ...                  ...                   ...   \n",
       "51485   [Assassin, Fighter]      [Support, Mage]   [Fighter, Assassin]   \n",
       "51486          [Tank, Mage]   [Support, Fighter]  [Marksman, Assassin]   \n",
       "51487       [Support, Mage]     [Marksman, Mage]       [Fighter, Mage]   \n",
       "51488       [Fighter, Tank]      [Support, Tank]       [Mage, Support]   \n",
       "51489       [Fighter, Tank]      [Tank, Fighter]  [Marksman, Assassin]   \n",
       "\n",
       "         t2_champ1_tags        t2_champ2_tags        t2_champ3_tags  \\\n",
       "0            [Marksman]            [Marksman]       [Fighter, Tank]   \n",
       "1       [Tank, Fighter]       [Mage, Support]       [Fighter, Tank]   \n",
       "2                [Mage]    [Support, Fighter]   [Fighter, Marksman]   \n",
       "3      [Mage, Assassin]       [Fighter, Tank]    [Support, Fighter]   \n",
       "4       [Support, Mage]       [Tank, Fighter]   [Fighter, Assassin]   \n",
       "...                 ...                   ...                   ...   \n",
       "51485            [Mage]       [Fighter, Tank]  [Marksman, Assassin]   \n",
       "51486   [Fighter, Tank]            [Marksman]       [Tank, Support]   \n",
       "51487            [Mage]            [Marksman]       [Tank, Fighter]   \n",
       "51488        [Marksman]   [Assassin, Fighter]       [Mage, Support]   \n",
       "51489            [Mage]  [Marksman, Assassin]  [Marksman, Assassin]   \n",
       "\n",
       "            t2_champ4_tags       t2_champ5_tags  \n",
       "0      [Assassin, Fighter]   [Support, Fighter]  \n",
       "1      [Fighter, Assassin]  [Fighter, Assassin]  \n",
       "2      [Fighter, Assassin]  [Marksman, Support]  \n",
       "3      [Fighter, Assassin]  [Marksman, Support]  \n",
       "4         [Assassin, Mage]           [Marksman]  \n",
       "...                    ...                  ...  \n",
       "51485      [Support, Mage]      [Fighter, Mage]  \n",
       "51486      [Fighter, Tank]               [Mage]  \n",
       "51487      [Mage, Support]      [Mage, Support]  \n",
       "51488               [Mage]  [Assassin, Fighter]  \n",
       "51489  [Assassin, Fighter]      [Fighter, Tank]  \n",
       "\n",
       "[51490 rows x 11 columns]"
      ]
     },
     "metadata": {},
     "output_type": "display_data"
    },
    {
     "name": "stdout",
     "output_type": "stream",
     "text": [
      "Winning- Mage :  1.3406680908914352\n",
      "Winning- Tank :  0.9238881336181783\n",
      "Winning- Support :  0.9331714896096329\n",
      "Winning- Marksman :  0.9877646144882501\n",
      "Winning- Assassin :  1.272188774519324\n",
      "Winning- Fighter :  1.735618566711983\n",
      "Losing- Mage :  1.3289570790444747\n",
      "Losing- Tank :  0.9150514663041367\n",
      "Losing- Support :  0.9306855700135949\n",
      "Losing- Marksman :  0.9888327830646727\n",
      "Losing- Assassin :  1.262303359875704\n",
      "Losing- Fighter :  1.7579141580889492\n"
     ]
    }
   ],
   "source": [
    "# create a new dataset that includes the team that won\n",
    "games_classes = games.filter(['winner', 't1_champ1_tags','t1_champ2_tags','t1_champ3_tags','t1_champ4_tags','t1_champ5_tags',\n",
    "                    't2_champ1_tags','t2_champ2_tags','t2_champ3_tags','t2_champ4_tags','t2_champ5_tags'], axis=1)\n",
    "\n",
    "display(games_classes)\n",
    "\n",
    "# dictionaries\n",
    "winning_classes_count = {'Mage': 0, 'Tank': 0, 'Support': 0, 'Marksman': 0, 'Assassin': 0, 'Fighter': 0}\n",
    "losing_classes_count = {'Mage': 0, 'Tank': 0, 'Support': 0, 'Marksman': 0, 'Assassin': 0, 'Fighter': 0}\n",
    "winning_class_avgs = {'Mage': 0, 'Tank': 0, 'Support': 0, 'Marksman': 0, 'Assassin': 0, 'Fighter': 0}\n",
    "losing_class_avgs = {'Mage': 0, 'Tank': 0, 'Support': 0, 'Marksman': 0, 'Assassin': 0, 'Fighter': 0}\n",
    "\n",
    "# this for loop will iterate through each game\n",
    "for i, game in games_classes.iterrows():\n",
    "    \n",
    "    # determine which champions of each game to observe\n",
    "    winning_team = game['winner']\n",
    "    \n",
    "    if winning_team == 1:\n",
    "        for champion in game[1:5]:\n",
    "            # this for loop will iterate through each class of each winning team (1)'s champion\n",
    "            for champion_class in champion:\n",
    "                winning_classes_count[champion_class] += 1\n",
    "        for champion in game[6:10]:\n",
    "            # this for loop will iterate through each class of each losing team (2)'s champion\n",
    "            for champion_class in champion:\n",
    "                losing_classes_count[champion_class] += 1\n",
    "        \n",
    "    elif winning_team == 2:\n",
    "        for champion in game[6:10]:\n",
    "            # this for loop will iterate through each class of each winning team (2)'s champion\n",
    "            for champion_class in champion:\n",
    "                winning_classes_count[champion_class] += 1\n",
    "        for champion in game[1:5]:\n",
    "            # this for loop will iterate through each class of each losing team (1)'s champion\n",
    "            for champion_class in champion:\n",
    "                losing_classes_count[champion_class] += 1\n",
    "        \n",
    "    else:\n",
    "        print('error')\n",
    "\n",
    "# The following data will get the average team compositions for the winning and losing teams.\n",
    "for champion_class, class_sum in winning_classes_count.items():\n",
    "    class_avg = class_sum/51490 # there is 51490 winning teams\n",
    "    winning_class_avgs[champion_class] = class_avg\n",
    "    print(\"Winning-\", champion_class, \": \", class_avg)\n",
    "    \n",
    "for champion_class, class_sum in losing_classes_count.items():\n",
    "    class_avg = class_sum/51490 # there is 51490 winning teams\n",
    "    losing_class_avgs[champion_class] = class_avg\n",
    "    print(\"Losing-\", champion_class, \": \", class_avg)"
   ]
  },
  {
   "cell_type": "markdown",
   "id": "628f2bd8-325a-4d7b-8cb3-0f00601ccf1d",
   "metadata": {},
   "source": [
    "We will display this in a grouped bar graph, with the average winning and losing teams' composition side-by-side. We will be using a bar width to 1) set a width for each bar, and 2) set an offset width for the losing bars to be next to the winning bars."
   ]
  },
  {
   "cell_type": "code",
   "execution_count": 107,
   "id": "78fcc549-12db-4785-9448-e619912a243a",
   "metadata": {},
   "outputs": [
    {
     "data": {
      "image/png": "[encoded data removed]",
      "text/plain": [
       "<Figure size 864x576 with 1 Axes>"
      ]
     },
     "metadata": {
      "needs_background": "light"
     },
     "output_type": "display_data"
    }
   ],
   "source": [
    "import matplotlib.pyplot as plt\n",
    "\n",
    "# graphing grouped bar graph\n",
    "team_comp_fig2 = plt.figure()\n",
    "ax2 = team_comp_fig2.add_axes([0,0,1,1])\n",
    "champion_class = winning_class_avgs.keys()\n",
    "x = np.arange(len(champion_class))\n",
    "winning_class_avg = winning_class_avgs.values()\n",
    "losing_class_avg = losing_class_avgs.values()\n",
    "total_class_avg = class_avgs.values()\n",
    "\n",
    "bar_width = 0.4 # second bar offset width\n",
    "\n",
    "# note the width offset is the width of each bar\n",
    "winning_bars = ax2.bar(x, winning_class_avg, width=bar_width)\n",
    "# repeat the same thing, but offset x by the width of the bar\n",
    "losing_bars = ax2.bar(x + bar_width, losing_class_avg, width=bar_width)\n",
    "# repeat the same thing, but offset x by the width of the bar\n",
    "total_bars = ax2.bar(x + bar_width, total_class_avg, width=bar_width)\n",
    "\n",
    "\n",
    "# fixing the x-axis\n",
    "ax2.set_xticks(x + bar_width / 3)\n",
    "ax2.set_xticklabels(champion_class, fontsize= 14)\n",
    "# ax2.bar_label(bars, fontsize= 20)\n",
    "\n",
    "# configurations for the bar graph\n",
    "plt.title(\"Bar Graph of Average Winning and Losing Team Compositions\", fontsize=20)\n",
    "plt.xlabel('Champion Class', fontsize=15)\n",
    "plt.ylabel('Average Champion Count (per Team)', fontsize=15)\n",
    "team_comp_fig2.set_figwidth(12)\n",
    "team_comp_fig2.set_figheight(8)  \n",
    "ax2.yaxis.grid(True, color='#EEEEEE')\n",
    "plt.legend({'Winning Teams', 'Losing Teams'},loc='center left', bbox_to_anchor=(1.01, 0.5))\n",
    "plt.show()"
   ]
  },
  {
   "cell_type": "markdown",
   "id": "d82b03b6-be1d-42ec-8c9b-9e670fd6bfe2",
   "metadata": {
    "tags": []
   },
   "source": [
    "## Resources\n",
    "\n",
    "[1] https://www.kaggle.com/datasets/datasnaek/league-of-legends?resource=download"
   ]
  },
  {
   "cell_type": "code",
   "execution_count": null,
   "id": "cf2eaca8-0035-4e27-ba24-f9cf41cab523",
   "metadata": {},
   "outputs": [],
   "source": []
  },
  {
   "cell_type": "code",
   "execution_count": null,
   "id": "b0141cfa-1a85-4fec-899c-04b593ccb05e",
   "metadata": {},
   "outputs": [],
   "source": []
  }
 ],
 "metadata": {
  "kernelspec": {
   "display_name": "Python 3 (ipykernel)",
   "language": "python",
   "name": "python3"
  },
  "language_info": {
   "codemirror_mode": {
    "name": "ipython",
    "version": 3
   },
   "file_extension": ".py",
   "mimetype": "text/x-python",
   "name": "python",
   "nbconvert_exporter": "python",
   "pygments_lexer": "ipython3",
   "version": "3.9.7"
  }
 },
 "nbformat": 4,
 "nbformat_minor": 5
}
