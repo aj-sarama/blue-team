{
 "cells": [
  {
   "cell_type": "markdown",
   "id": "96f15cb3-6edd-4f61-a396-82b2815b158f",
   "metadata": {},
   "source": [
    "# League of Legends Data Analysis Tutorial\n",
    "\n",
    "*Andrew Sarama, Elisabeth Jang*  \n",
    "*May 15, 2022*  \n",
    "*University of Maryland, College Park*  \n",
    "*Department of Computer Science and Mathematics*  \n",
    "\n",
    "## Brief Introduction\n",
    "\n",
    "League of Legends is a team-based 5v5 competitive Esport. Various data from previously played matches is saved to the LoL database. However, access to the database needs to be manually authenticated by the Riot Games Development Team. Luckily, authenticated API users have downloaded relevant data from thousands of games and uploaded the files for public access. This tutorial will be an effective introduction to analyzing LoL match data regardless of the user's authentication level.\n",
    "\n",
    "\n",
    "### Important Game Mechanics\n",
    "\n",
    "*Feel free to skip if you are already familiar with basic LoL gameplay*\n",
    "\n",
    "\n",
    "#### Primary Game Objectives\n",
    "The LoL map (also known as \"The Rift\") has 2 teams, *red* and *blue*. The goal of the game is to destroy the opposing team's *nexus*, located at the center of the opposing team's *base*. The nexus is protected by 4 layers of *towers*, which are non-regenerating defense turrets preventing players from simply walking into the enemy base. All 4 layers of towers must be penetrated before the nexus becomes attackable. \n",
    "\n",
    "#### Champions\n",
    "Before the start of any match, all 10 players choose *champions* from a pool of ~150 playable characters. Champions can attack opposing champions and towers. Champions that die in combat will respawn in their base. Note that the only way to win is to destroy the opposing nexus--killing the enemy champions simply prevents them from protecting their towers and nexus. Each player gets to pick and ban exactly 1 champion.\n",
    "\n",
    "#### Secondary Game Objectives\n",
    "There are 3 secondary objectives on The Rift: killing the *Dragon*, killing the *Rift Herald*, and killing the *Baron*. All of these objectives spawn in set times and locations on The Rift, and the team that completes the objectives first gains bonuses that make destroying the opposing team's base easier."
   ]
  },
  {
   "cell_type": "markdown",
   "id": "999892a8-89a9-42ee-b100-289131edc76d",
   "metadata": {},
   "source": [
    "## Data Analysis Opportunities\n",
    "\n",
    "Using the data that is stored for LoL matches and some data analysis techniques, we can answer some of the following interesting questions (and many, many more):\n",
    "\n",
    "1. Is the team that gets the \"first blood\" (first champion kill in the match) more likely to win? How good of a predictor is the first blood for the outcome of the game?\n",
    "2. How does completing secondary objectives impact a team's chances of winning? Is killing the dragon a waste of player's time, or is it a predictor of success?\n",
    "3. What is the relationship between a champion's win rate, pick rate, and ban rate?\n",
    "4. Is focusing more on secondary objectives than primary objectives a viable strategy?"
   ]
  },
  {
   "cell_type": "markdown",
   "id": "0f3276db-1327-4315-9133-6cc60ad1e4da",
   "metadata": {},
   "source": [
    "## Data Collection and Parsing\n",
    "\n",
    "Without a private Riot Games development key, finding LoL match data with very specific paramaters is challenging. Luckily, if we want to analyze a large quantity of general matches, many such public datasets exist. This tutorial will use a free-to-download dataset containing ~50,000 matches played on the European Server. See [1] under *Resources* for a download link.\n",
    "\n",
    "### Importing Necessary Libraries\n",
    "\n",
    "The data will be stored in our Python code using the *pandas* library. The first step will be to import the library itself: (reference [2] is the link to the pandas documentation)"
   ]
  },
  {
   "cell_type": "code",
   "execution_count": 1,
   "id": "b87e9835-d56b-4f7e-b7be-2ec4fc3a553f",
   "metadata": {},
   "outputs": [],
   "source": [
    "import pandas as pd"
   ]
  },
  {
   "cell_type": "markdown",
   "id": "f9f89549-dc21-4201-ad8f-ea13ccce451f",
   "metadata": {},
   "source": [
    "The data from this specific source has 4 files: games.csv (contains the game data) and 3 .json files for converting champion/spell IDs to their names. Let's first get the data from the games into a pandas DataFrame and observe what other data parsing needs to take place."
   ]
  },
  {
   "cell_type": "code",
   "execution_count": 2,
   "id": "a3f4b5ca-939c-4cbe-a158-9f3a2bc7f416",
   "metadata": {},
   "outputs": [
    {
     "data": {
      "text/plain": [
       "'gameId'"
      ]
     },
     "metadata": {},
     "output_type": "display_data"
    },
    {
     "data": {
      "text/plain": [
       "'creationTime'"
      ]
     },
     "metadata": {},
     "output_type": "display_data"
    },
    {
     "data": {
      "text/plain": [
       "'gameDuration'"
      ]
     },
     "metadata": {},
     "output_type": "display_data"
    },
    {
     "data": {
      "text/plain": [
       "'seasonId'"
      ]
     },
     "metadata": {},
     "output_type": "display_data"
    },
    {
     "data": {
      "text/plain": [
       "'winner'"
      ]
     },
     "metadata": {},
     "output_type": "display_data"
    },
    {
     "data": {
      "text/plain": [
       "'firstBlood'"
      ]
     },
     "metadata": {},
     "output_type": "display_data"
    },
    {
     "data": {
      "text/plain": [
       "'firstTower'"
      ]
     },
     "metadata": {},
     "output_type": "display_data"
    },
    {
     "data": {
      "text/plain": [
       "'firstInhibitor'"
      ]
     },
     "metadata": {},
     "output_type": "display_data"
    },
    {
     "data": {
      "text/plain": [
       "'firstBaron'"
      ]
     },
     "metadata": {},
     "output_type": "display_data"
    },
    {
     "data": {
      "text/plain": [
       "'firstDragon'"
      ]
     },
     "metadata": {},
     "output_type": "display_data"
    },
    {
     "data": {
      "text/plain": [
       "'firstRiftHerald'"
      ]
     },
     "metadata": {},
     "output_type": "display_data"
    }
   ],
   "source": [
    "games = pd.read_csv(\"/home/jovyan/notebooks/Data/games.csv\")\n",
    "\n",
    "# there are a very large number of data columns, so let's look at the names of the first 11\n",
    "display_cols = 11\n",
    "i = 1\n",
    "for col in games.columns:\n",
    "    if i <= display_cols:\n",
    "        display(col)\n",
    "        i += 1"
   ]
  },
  {
   "cell_type": "markdown",
   "id": "ac01f8ad-3051-4b69-9dba-4b5de7a1f115",
   "metadata": {},
   "source": [
    "These columns have very useful information about the events that took place in the match. From the description of the dataset at link [1], the 2 teams are given numerical identifiers 1 and 2. For all columns that show the 'first' (objective), they represent which team completed the objective first. However, not all objectives are necessary to win a game, so identifier 0 implies that neither team completed this objective.\n",
    "\n",
    "Looking at the .csv file, there are a lot of columns that are unneccessary and are needlessly cluttering the data. Here we will drop all of the columns that will not be used throughout this tutorial:"
   ]
  },
  {
   "cell_type": "code",
   "execution_count": 3,
   "id": "ba85056d-c2a8-4964-9845-91f929346706",
   "metadata": {},
   "outputs": [],
   "source": [
    "games.drop(columns=['gameId', 'creationTime', 'seasonId'], inplace = True)"
   ]
  },
  {
   "cell_type": "markdown",
   "id": "cad02401-4d33-45f2-be9a-d0110bc5420d",
   "metadata": {},
   "source": [
    "### Using JSON to Clean Up\n",
    "\n",
    "Many of the columns use numerical identifiers for champions and spells. Replacing those entries with the actual names of the champions will make interpreting the data significantly easier. We will use the *json* library to read the .JSON files into dictionaries for a quick conversion:"
   ]
  },
  {
   "cell_type": "code",
   "execution_count": 4,
   "id": "093776d0-64ee-42cc-bd13-ceb6a904f4d6",
   "metadata": {},
   "outputs": [],
   "source": [
    "import json\n",
    "\n",
    "champion_info = {}; # this will be a dictionary mapping champion ID to a set of parameters\n",
    "with open(\"/home/jovyan/notebooks/Data/champion_info.json\", \"r\") as read_file:\n",
    "    champion_info = json.load(read_file)\n",
    "    champion_info = champion_info['data'] # we don't need the game version and other extraneous data"
   ]
  },
  {
   "cell_type": "markdown",
   "id": "7e7b8d39-cf03-489f-bbfc-f065be9c285d",
   "metadata": {},
   "source": [
    "From this, let's see what information we can find about champions with ID = 1:"
   ]
  },
  {
   "cell_type": "code",
   "execution_count": 5,
   "id": "69a75f13-c707-4a58-8bee-88fec63b70e6",
   "metadata": {},
   "outputs": [
    {
     "data": {
      "text/plain": [
       "{'title': 'the Dark Child', 'id': 1, 'key': 'Annie', 'name': 'Annie'}"
      ]
     },
     "metadata": {},
     "output_type": "display_data"
    }
   ],
   "source": [
    "display(champion_info['1'])"
   ]
  },
  {
   "cell_type": "code",
   "execution_count": 6,
   "id": "36ef9c2d-6414-443d-bcd1-41f3f89970d6",
   "metadata": {},
   "outputs": [
    {
     "data": {
      "text/html": [
       "<div>\n",
       "<style scoped>\n",
       "    .dataframe tbody tr th:only-of-type {\n",
       "        vertical-align: middle;\n",
       "    }\n",
       "\n",
       "    .dataframe tbody tr th {\n",
       "        vertical-align: top;\n",
       "    }\n",
       "\n",
       "    .dataframe thead th {\n",
       "        text-align: right;\n",
       "    }\n",
       "</style>\n",
       "<table border=\"1\" class=\"dataframe\">\n",
       "  <thead>\n",
       "    <tr style=\"text-align: right;\">\n",
       "      <th></th>\n",
       "      <th>t1_champ1id</th>\n",
       "      <th>t1_champ1</th>\n",
       "    </tr>\n",
       "  </thead>\n",
       "  <tbody>\n",
       "    <tr>\n",
       "      <th>0</th>\n",
       "      <td>8</td>\n",
       "      <td>Vladimir</td>\n",
       "    </tr>\n",
       "    <tr>\n",
       "      <th>1</th>\n",
       "      <td>119</td>\n",
       "      <td>Draven</td>\n",
       "    </tr>\n",
       "    <tr>\n",
       "      <th>2</th>\n",
       "      <td>18</td>\n",
       "      <td>Tristana</td>\n",
       "    </tr>\n",
       "    <tr>\n",
       "      <th>3</th>\n",
       "      <td>57</td>\n",
       "      <td>Maokai</td>\n",
       "    </tr>\n",
       "    <tr>\n",
       "      <th>4</th>\n",
       "      <td>19</td>\n",
       "      <td>Warwick</td>\n",
       "    </tr>\n",
       "  </tbody>\n",
       "</table>\n",
       "</div>"
      ],
      "text/plain": [
       "   t1_champ1id t1_champ1\n",
       "0            8  Vladimir\n",
       "1          119    Draven\n",
       "2           18  Tristana\n",
       "3           57    Maokai\n",
       "4           19   Warwick"
      ]
     },
     "metadata": {},
     "output_type": "display_data"
    }
   ],
   "source": [
    "def champ_name_map(id): # this function will serve as a map \n",
    "  return champion_info[id]['name']\n",
    "\n",
    "# the dataset gives numerical id's, while all json keys are strings\n",
    "games['t1_champ1'] = games['t1_champ1id'].astype(str)\n",
    "# the pandas \"map\" function applies a function to every element in the column. see reference [3]\n",
    "games['t1_champ1'] = games['t1_champ1'].map(champ_name_map) # apply id string -> name mapping function\n",
    "display(games[['t1_champ1id', 't1_champ1']].head(5))"
   ]
  },
  {
   "cell_type": "markdown",
   "id": "2061b9ab-3fad-4fdd-a85a-b8c94b3fa4be",
   "metadata": {},
   "source": [
    "Converting any column of champion IDs in the dataframe into the champion name can make the data significantly more readable, especially to an outside audience. If we want to show which characters have the highest winrate, who will be able to tell which champion \"championID = 1\" is?"
   ]
  },
  {
   "cell_type": "markdown",
   "id": "14ae84ef-7e99-41f1-80f3-913df3bfaa45",
   "metadata": {},
   "source": [
    "### Data Cleaning: Early Forfeited Games\n",
    "\n",
    "In LoL, if a player disconnects within the first ~6 minutes of the game, the players in the game can vote to cancel the match. Games like this will prove to be outliers in a number of areas (low objective count, no tower destructions, no first bloods, etc). It makes a lot of sense to remove games like this.\n",
    "\n",
    "A game cannot be forfeited or realistically lost before 10 minutes. Thus, any game that lasts less than 600 seconds is likely a game that was reset after a disconnect. Do any games like this exist?"
   ]
  },
  {
   "cell_type": "code",
   "execution_count": 7,
   "id": "21084919-5477-4245-8c4a-0ce5e3a8db36",
   "metadata": {},
   "outputs": [
    {
     "data": {
      "text/plain": [
       "1204"
      ]
     },
     "execution_count": 7,
     "metadata": {},
     "output_type": "execute_result"
    }
   ],
   "source": [
    "len(games[games['gameDuration'] <= 600])"
   ]
  },
  {
   "cell_type": "markdown",
   "id": "01ace4c5-f33e-448f-8acb-6e85ab4310eb",
   "metadata": {},
   "source": [
    "So it appears that ~1200 of our games were cancelled before the 10 minute mark. These games have no objectives taken or towers destroyed, so they won't be useful for analysis. Removing them is straightforward in pandas, as shown below:"
   ]
  },
  {
   "cell_type": "code",
   "execution_count": 8,
   "id": "2afee0d3-7e4c-4153-98d5-c75f40d8fe83",
   "metadata": {},
   "outputs": [
    {
     "data": {
      "text/plain": [
       "50286"
      ]
     },
     "execution_count": 8,
     "metadata": {},
     "output_type": "execute_result"
    }
   ],
   "source": [
    "games = games[games['gameDuration'] > 600]\n",
    "games.reset_index(inplace = True) # this is necessary as some indexes will be left empty after dropping rows\n",
    "len(games)"
   ]
  },
  {
   "cell_type": "markdown",
   "id": "c2748e85-ec96-4402-a051-3fa71c24d9b2",
   "metadata": {},
   "source": [
    "## Data Analysis Example: First Blood\n",
    "\n",
    "As an example exercise, we will determine whether the team that gets the *first blood* (reminder: this is the team that gets the first champion kill) is more likely to win the match. We will then do some hypothesis testing to check the statistical signficance of the results.\n",
    "\n",
    "First, let's figure out the win percentage of the team that gets the first blood. We know if the winning team gets the first blood whenever the 'winner' column is equal to the 'firstBlood' column."
   ]
  },
  {
   "cell_type": "code",
   "execution_count": 9,
   "id": "9f7d5191-4ad6-4f88-a102-9af52ba10b68",
   "metadata": {},
   "outputs": [
    {
     "data": {
      "text/plain": [
       "59.052221294197196"
      ]
     },
     "metadata": {},
     "output_type": "display_data"
    }
   ],
   "source": [
    "# we are looking for the number of rows \n",
    "num_wins = len(games[games[\"winner\"] == games[\"firstBlood\"]])\n",
    "num_games = len(games)\n",
    "\n",
    "display((num_wins / num_games) * 100.0)"
   ]
  },
  {
   "cell_type": "markdown",
   "id": "6125f01f-6442-4be0-aefc-788a511f6b0a",
   "metadata": {},
   "source": [
    "Interesting! According to the dataset, the team that gets the first blood has a 58.47% chance of winning the match. But how statistically significant is this result?\n",
    "\n",
    "On average, two evenly matched teams should each have a winrate very close to 50%. It may be naive to assume that all teams in this dataset are \"evenly matched\", however there is no good way to quantify the fairness of a match. For the rest of this analysis, let's assume that teams 1 and 2 are evenly matched, and thus have an equal chance of getting the first blood. There may be conflating variables such as champion selection/archetype, but let's ignore that for now.\n",
    "\n",
    "### Hypothesis Testing\n",
    "\n",
    "For this hypothesis test, let's be more statistically robust. Let's consider each team as an individual (meaning there are 2 data points per match). The independent variable is whether or not a team got the first blood. The dependent variable is whether or not the team won the match. Let's filter out some dataframes that represent these variables:"
   ]
  },
  {
   "cell_type": "code",
   "execution_count": 10,
   "id": "6f3c3dfc-eabe-4bd5-97db-710b6147c249",
   "metadata": {},
   "outputs": [
    {
     "data": {
      "text/plain": [
       "[29695, 20591]"
      ]
     },
     "metadata": {},
     "output_type": "display_data"
    }
   ],
   "source": [
    "first_blood_win = 0\n",
    "first_blood_loss = 0\n",
    "\n",
    "for index, row in games.iterrows():\n",
    "    if row['firstBlood'] == row['winner']:\n",
    "        first_blood_win += 1\n",
    "    else:\n",
    "        first_blood_loss += 1\n",
    "        \n",
    "display([first_blood_win, first_blood_loss])"
   ]
  },
  {
   "cell_type": "markdown",
   "id": "4872b6f4-0c09-472b-9191-7c8806573737",
   "metadata": {},
   "source": [
    "Now, we have a categorical dependent and independent variable. We are hoping to show that the number of observations for the dependent categories is far enough away from the expected number of observations. If the first blood in a match had no correlation with the result, then we would expect the first blood teams to have an equal number of wins and losses (since the average winrate for a team would be 50%). \n",
    "\n",
    "This comparison of categorical variable frequencies is perfect for a chi-square test! The scipy library can quickly do the chi-square test for us:"
   ]
  },
  {
   "cell_type": "code",
   "execution_count": 11,
   "id": "45e517d0-000d-480e-8ca5-707653bc3289",
   "metadata": {},
   "outputs": [
    {
     "data": {
      "text/plain": [
       "Power_divergenceResult(statistic=1648.2284532474248, pvalue=0.0)"
      ]
     },
     "metadata": {},
     "output_type": "display_data"
    }
   ],
   "source": [
    "import scipy.stats as stat\n",
    "\n",
    "expected = (first_blood_win + first_blood_loss) / 2\n",
    "display(stat.chisquare(f_obs = [first_blood_win, first_blood_loss], f_exp = [expected, expected]))"
   ]
  },
  {
   "cell_type": "markdown",
   "id": "d3d54030-a7dc-4148-93f7-b580fd5359e5",
   "metadata": {},
   "source": [
    "Perhaps this test wasn't necessary, considering there is an almost 5,000 observation difference from the number we would expect. Thus, the p-value of this number of observations occurring naturally is so small, that it's being rounded to 0.0. Without question, there is a correlation between the team that gets first blood and their chance of victory. This is likely because in reality, teams are not always evenly matched--and the team with the better players is much more likely to both get the first blood *and* win. Unfortunately, the data does not have a metric for player skill, so let's take our analysis elsewhere.\n",
    "\n",
    "Let's discuss which champions are correlated with an increased number of wins for their team *with statistical significance*. Let's set a maximum p-value of 0.05, meaning any chi-square test that has a p-value higher than 0.05 will not have a statistically significant advantage. In this case, the null hypothesis of the chi-square test is that for a game that contains character *x*, which team character *x* is on has no impact on the outcome of the match (win or loss).\n",
    "\n",
    "Here, I will define a function that checks the champions of each team and counts the wins and losses for teams with a specific championID (numerical parameter):"
   ]
  },
  {
   "cell_type": "code",
   "execution_count": 12,
   "id": "4d2abc49-82da-4fba-9225-df8d0ca9f920",
   "metadata": {},
   "outputs": [
    {
     "data": {
      "text/plain": [
       "0.299872658150015"
      ]
     },
     "execution_count": 12,
     "metadata": {},
     "output_type": "execute_result"
    }
   ],
   "source": [
    "# first, we will select the champion choices for each team from the games dataset\n",
    "# passing in an array of column names returns a new dataframe with only those columns\n",
    "team1_champs = games[['t1_champ1id', 't1_champ2id', 't1_champ3id', 't1_champ4id', 't1_champ5id']]\n",
    "team2_champs = games[['t2_champ1id', 't2_champ2id', 't2_champ3id', 't2_champ4id', 't2_champ5id']]\n",
    "\n",
    "# parameter championID denotes which champion's winrate we are currently performing the test on\n",
    "def champion_win_pvalue(championID):\n",
    "    win_with_champ = 0 # number of times champ is on the team and wins\n",
    "    loss_with_champ = 0 # number of times champ is on the team and loses\n",
    "\n",
    "    for index, row in team1_champs.iterrows():\n",
    "        if championID in row.values: # row only contains champion IDs for team1, so other columns won't interfere\n",
    "            if games.loc[index]['winner'] == 1:\n",
    "                win_with_champ += 1\n",
    "            else:\n",
    "                loss_with_champ += 1\n",
    "\n",
    "    for index, row in team2_champs.iterrows():\n",
    "        if championID in row.values:\n",
    "            if games.loc[index]['winner'] == 1:\n",
    "                win_with_champ += 1\n",
    "            else:\n",
    "                loss_with_champ += 1\n",
    "    \n",
    "    if win_with_champ < loss_with_champ:\n",
    "        return 1 # we are looking for who is statistically more likely to make their team *win*- we don't care if they make their team lose\n",
    "                \n",
    "    expected = (win_with_champ + loss_with_champ) / 2 # if the champ has no effect on the outcome, we would expect there to be equal win/loss\n",
    "    test = stat.chisquare(f_obs = [win_with_champ, loss_with_champ], f_exp = [expected, expected])\n",
    "    return test.pvalue\n",
    "\n",
    "champion_win_pvalue(8) # championID 8 corresponds to Vladimir"
   ]
  },
  {
   "cell_type": "markdown",
   "id": "58d75d23-1d43-4fb6-a60a-eb805e82c3d2",
   "metadata": {},
   "source": [
    "Now we have a function that can take any individual champion, perform a chi-square test, and tell us if they have a statistically significant correlation with the result! Although, we have to manually check the winrate (we can get a statistically significant winrate of 50%) and that the p-value is low enough (p <= 0.05).\n",
    "\n",
    "What if we want to see all of the champs that have this statistically significant correlation? To do this, let's make our code a bit more efficient:"
   ]
  },
  {
   "cell_type": "code",
   "execution_count": 13,
   "id": "bb0c97d5-d911-4660-8a18-dcd91c21aaa6",
   "metadata": {},
   "outputs": [
    {
     "data": {
      "text/plain": [
       "['Singed',\n",
       " 'Rammus',\n",
       " 'Anivia',\n",
       " 'Sona',\n",
       " 'Janna',\n",
       " 'Swain',\n",
       " 'Yorick',\n",
       " 'Garen',\n",
       " 'Malzahar',\n",
       " 'Shyvana',\n",
       " 'Sejuani']"
      ]
     },
     "metadata": {},
     "output_type": "display_data"
    }
   ],
   "source": [
    "champ_win_dict = {} # here we will store the wins/losses, so we don't have to iterate over the dataframe 150+ times!\n",
    "winrate_threshold = 0.53 # let's arbitrarily say that the \"best\" champions must have a winrate of 53% with statistical significance\n",
    "# feel free to play around with the above value to see which champions were truly impactful\n",
    "\n",
    "# instantiate the dict with all the champions\n",
    "for x in champion_info:\n",
    "    champ_win_dict[x] = {}\n",
    "    champ_win_dict[x]['w'] = 0 # count the number of wins\n",
    "    champ_win_dict[x]['l'] = 0 # count the number of losses\n",
    "\n",
    "for index, row in games.iterrows():\n",
    "    if games.loc[index]['winner'] == 1:\n",
    "        champ_win_dict[str(row['t1_champ1id'])]['w'] += 1\n",
    "        champ_win_dict[str(row['t1_champ2id'])]['w'] += 1\n",
    "        champ_win_dict[str(row['t1_champ3id'])]['w'] += 1\n",
    "        champ_win_dict[str(row['t1_champ4id'])]['w'] += 1\n",
    "        champ_win_dict[str(row['t1_champ5id'])]['w'] += 1\n",
    "        champ_win_dict[str(row['t2_champ1id'])]['l'] += 1\n",
    "        champ_win_dict[str(row['t2_champ2id'])]['l'] += 1\n",
    "        champ_win_dict[str(row['t2_champ3id'])]['l'] += 1\n",
    "        champ_win_dict[str(row['t2_champ4id'])]['l'] += 1\n",
    "        champ_win_dict[str(row['t2_champ5id'])]['l'] += 1\n",
    "    else:\n",
    "        champ_win_dict[str(row['t1_champ1id'])]['l'] += 1\n",
    "        champ_win_dict[str(row['t1_champ2id'])]['l'] += 1\n",
    "        champ_win_dict[str(row['t1_champ3id'])]['l'] += 1\n",
    "        champ_win_dict[str(row['t1_champ4id'])]['l'] += 1\n",
    "        champ_win_dict[str(row['t1_champ5id'])]['l'] += 1\n",
    "        champ_win_dict[str(row['t2_champ1id'])]['w'] += 1\n",
    "        champ_win_dict[str(row['t2_champ2id'])]['w'] += 1\n",
    "        champ_win_dict[str(row['t2_champ3id'])]['w'] += 1\n",
    "        champ_win_dict[str(row['t2_champ4id'])]['w'] += 1\n",
    "        champ_win_dict[str(row['t2_champ5id'])]['w'] += 1\n",
    "\n",
    "best_champions = [] # statistically correlated best champions\n",
    "            \n",
    "for x in champion_info:\n",
    "    win = champ_win_dict[x]['w']\n",
    "    loss = champ_win_dict[x]['l']\n",
    "    expected = (win + loss) / 2\n",
    "    \n",
    "    # now we want to apply a chi-square test to every champion\n",
    "    if expected < 300:\n",
    "        champ_win_dict[x]['p'] = 1  # not enough games to be statistically significant\n",
    "        continue\n",
    "    \n",
    "    # let's only look at champions who have a \n",
    "    if win < loss or (win / (win + loss)) < winrate_threshold:\n",
    "        champ_win_dict[x]['p'] = 1  # we only care if they win more than they lose\n",
    "        continue\n",
    "        \n",
    "    test = stat.chisquare(f_obs = [win, loss], f_exp = [expected, expected])\n",
    "    champ_win_dict[x]['p'] = test.pvalue\n",
    "    \n",
    "    if test.pvalue <= 0.05:\n",
    "        best_champions.append(champion_info[x][\"name\"])\n",
    "    \n",
    "display(best_champions)    "
   ]
  },
  {
   "cell_type": "markdown",
   "id": "21f73dc4-d147-4dfd-9dff-bc8e768ea3bc",
   "metadata": {},
   "source": [
    "According to our chi-square test, these champions are correlated with their team's victory with p-value <= 0.05 across this dataset. And all of these champions have a winrate above our set threshold. This is one of the primary metrics used to determine whether a champion is considered 'meta' (the strongest available strategy). If you compare this to an online tier list made by high-ranked LoL players, you'll notice most of them appear on the list: (gathered from [4])\n",
    "\n",
    "*The following graphic assumes knowledge of the champion's name by their icon. Websites such as op.gg have similar data that contain champion names*"
   ]
  },
  {
   "cell_type": "markdown",
   "id": "ce23adb2-a2bb-49e7-a76d-b4c9940c7482",
   "metadata": {},
   "source": [
    "![Tier List Gathered for Season 9](TierList.jpeg)"
   ]
  },
  {
   "cell_type": "markdown",
   "id": "b849e584-ad58-4dde-bdaa-5559eff45890",
   "metadata": {},
   "source": [
    "### Analysis of Secondary Objectives\n",
    "\n",
    "Moving away from hypothesis testing, let's do an example where we visualize some data about secondary objectives. A team can do any number of dragons, barons, or rift heralds in a match and still lose, since these objectives are *secondary*. However, completing them certainly gives the team an advantage, so we want to visualize the advantage gained by doing them.\n",
    "\n",
    "In this example, we will measure the \"advantage\" gained by measuring the average winrate for a specific objective-completed combination. If we consider the number of dragons completed as an X axis, the number of rift heralds and barons as a Y axis, and the winrate as a Z axis, we can create a 3-D bar graph that shows the winrates of combined numbers of objectives.\n",
    "\n",
    "We will be using pyplot to generate the image of the 3-D bar plot (see reference [5])"
   ]
  },
  {
   "cell_type": "code",
   "execution_count": 14,
   "id": "a2439c56-9ec8-4541-8ef4-e36f7494f420",
   "metadata": {},
   "outputs": [
    {
     "data": {
      "text/plain": [
       "{0: {0: [0, 0], 1: [0, 0], 2: [0, 0], 3: [0, 0], 4: [0, 0], 5: [0, 0]},\n",
       " 1: {0: [0, 0], 1: [0, 0], 2: [0, 0], 3: [0, 0], 4: [0, 0], 5: [0, 0]},\n",
       " 2: {0: [0, 0], 1: [0, 0], 2: [0, 0], 3: [0, 0], 4: [0, 0], 5: [0, 0]},\n",
       " 3: {0: [0, 0], 1: [0, 0], 2: [0, 0], 3: [0, 0], 4: [0, 0], 5: [0, 0]},\n",
       " 4: {0: [0, 0], 1: [0, 0], 2: [0, 0], 3: [0, 0], 4: [0, 0], 5: [0, 0]},\n",
       " 5: {0: [0, 0], 1: [0, 0], 2: [0, 0], 3: [0, 0], 4: [0, 0], 5: [0, 0]},\n",
       " 6: {0: [0, 0], 1: [0, 0], 2: [0, 0], 3: [0, 0], 4: [0, 0], 5: [0, 0]}}"
      ]
     },
     "metadata": {},
     "output_type": "display_data"
    }
   ],
   "source": [
    "import numpy as np\n",
    "import matplotlib.pyplot as plt\n",
    "\n",
    "# first we need a grid for the number of dragons and heralds\n",
    "data = {} # keys will be # of dragons, values will be a new dictionary with number of barons\n",
    "# values of the data[# of drag][# of baron] = [wins, losses]\n",
    "for dragons in range(0,7):\n",
    "    data[dragons] = {}\n",
    "    for barons in range(0,6):\n",
    "        data[dragons][barons] = [0,0]\n",
    "        \n",
    "display(data)"
   ]
  },
  {
   "cell_type": "markdown",
   "id": "1c5ce298-02f2-493a-98ab-ffa782356892",
   "metadata": {},
   "source": [
    "As you can see, we have created a 6x5 grid of 2-element arrays. We can access members of this dictionary using a tuple-like coordinate system. If a team has completed *x* dragons and *y* rift heralds/barons, we can access the number of wins and losses using:\n",
    "\n",
    "\\[win, loss\\] = data\\[number of barons\\]\\[number of dragons\\]"
   ]
  },
  {
   "cell_type": "code",
   "execution_count": 15,
   "id": "2c184dce-52b4-460f-9651-8efd7139d8c8",
   "metadata": {},
   "outputs": [
    {
     "data": {
      "text/plain": [
       "{0: [1488, 21067],\n",
       " 1: [1497, 3339],\n",
       " 2: [447, 300],\n",
       " 3: [31, 27],\n",
       " 4: [0, 0],\n",
       " 5: [0, 0]}"
      ]
     },
     "metadata": {},
     "output_type": "display_data"
    }
   ],
   "source": [
    "for index, row in games.iterrows():\n",
    "    if row['winner'] == 1:\n",
    "        # if team 1 is the winner, then we want to add a win to the team 1's [dragon][baron] index\n",
    "        num_dragons = row['t1_dragonKills']\n",
    "        num_barons = row['t1_baronKills'] + row['t1_riftHeraldKills']\n",
    "        t = data[num_dragons][num_barons]\n",
    "        data[num_dragons][num_barons] = [t[0] + 1, t[1]]\n",
    "        \n",
    "        # if team 1 is the winner, then we want to add a loss to the team 2's [dragon][baron] index\n",
    "        num_dragons = row['t2_dragonKills']\n",
    "        num_barons = row['t2_baronKills'] + row['t2_riftHeraldKills']\n",
    "        t = data[num_dragons][num_barons]\n",
    "        data[num_dragons][num_barons] = [t[0], t[1] + 1]\n",
    "        \n",
    "    else:\n",
    "        # the process is the same as above, but with reversed win and loss addition\n",
    "        num_dragons = row['t1_dragonKills']\n",
    "        num_barons = row['t1_baronKills'] + row['t1_riftHeraldKills']\n",
    "        t = data[num_dragons][num_barons]\n",
    "        data[num_dragons][num_barons] = [t[0], t[1] + 1]\n",
    "        \n",
    "        num_dragons = row['t2_dragonKills']\n",
    "        num_barons = row['t2_baronKills'] + row['t2_riftHeraldKills']\n",
    "        t = data[num_dragons][num_barons]\n",
    "        data[num_dragons][num_barons] = [t[0] + 1, t[1]]\n",
    "        \n",
    "display(data[0]) # an example of the results with 0 dragons completed"
   ]
  },
  {
   "cell_type": "markdown",
   "id": "f47a7fef-3533-4f2d-a534-eb8788266ca3",
   "metadata": {},
   "source": [
    "It's worth noting that games typically last ~20-30 minutes, so increasing numbers of dragons/barons completed will be significantly more rare, since few games go long enough for that many objectives to spawn. Regardless, we will plot the winrates for any (dragon, baron) combination that has valid data."
   ]
  },
  {
   "cell_type": "code",
   "execution_count": 16,
   "id": "93eef424-c5b4-4406-9567-02bc3c6afaf0",
   "metadata": {},
   "outputs": [],
   "source": [
    "for dragons in range(0,7):\n",
    "    for barons in range(0,6):\n",
    "        t = data[dragons][barons]\n",
    "        total_games = t[0] + t[1]\n",
    "        if total_games > 0: # always watch out for division by 0 errors!\n",
    "            data[dragons][barons] = t[0] / total_games\n",
    "        else:\n",
    "            data[dragons][barons] = 0\n",
    "\n",
    "# converting to a numpy matrix allows us to use the flatten() function. see [6]\n",
    "data_matrix = np.zeros((7, 6))\n",
    "for dragons in range(0,7):\n",
    "    for barons in range(0,6):\n",
    "        data_matrix[dragons][barons] = data[dragons][barons]"
   ]
  },
  {
   "cell_type": "markdown",
   "id": "e5248001-e7d8-451c-9c0e-a5fad0125c90",
   "metadata": {},
   "source": [
    "With the data ready, all that's left is to plot the data into the 3-D bar graph. Luckily, the documentation for the bar3d function has a complete example that can simply be moved into our code (with some replacements). See [7]"
   ]
  },
  {
   "cell_type": "code",
   "execution_count": 17,
   "id": "51008a28-bda8-4a95-8a8b-61ad0a9ec361",
   "metadata": {},
   "outputs": [
    {
     "data": {
      "image/png": "[encoded data removed]",
      "text/plain": [
       "<Figure size 1728x864 with 1 Axes>"
      ]
     },
     "metadata": {
      "needs_background": "light"
     },
     "output_type": "display_data"
    }
   ],
   "source": [
    "# setup the figure and axes\n",
    "fig = plt.figure(figsize=(24, 12))\n",
    "ax1 = fig.add_subplot(121, projection='3d')\n",
    "\n",
    "_x = np.arange(7)\n",
    "_y = np.arange(6)\n",
    "_xx, _yy = np.meshgrid(_x, _y)\n",
    "x, y = _xx.ravel(), _yy.ravel() # create x,y values that will make a grid in the bar3d parameters\n",
    "\n",
    "top = data_matrix.flatten()\n",
    "bottom = np.zeros_like(top)\n",
    "width = depth = 1\n",
    "\n",
    "ax1.bar3d(x, y, bottom, width, depth, top, shade=True)\n",
    "ax1.set_title('Winrates for Number of Dragon, Baron Combinations')\n",
    "ax1.invert_xaxis() # we want 0 dragons, 0 barons to be in the front corner of the isometric view\n",
    "\n",
    "plt.show()"
   ]
  },
  {
   "cell_type": "markdown",
   "id": "27e134d9-6e2f-4dc2-b313-9e06b279c7d0",
   "metadata": {},
   "source": [
    "### Analysis of \"Scaling\" Champions\n",
    "\n",
    "A champion in LoL is known as a \"scaling\" champion if their winrate increases with game length. There are also champions that are better at the beginning of games, but their effectiveness falls off over time. The only way to demonstrate/visualize this phenomenon is to graph a champion's winrate over time.\n",
    "\n",
    "Since a single instance of whether or not a champion wins in a game of a particular length is a categorical variable (0 = loss, 1 = win), we instead need to count the number of wins and losses across a specific interval (which is way more useful!).\n",
    "\n",
    "The minimum game time should be ~15 minutes. Let's split the game times into the following 5 minute intervals after 15 minutes: {15-20, 20-25, 25-30, 30-35, 35-40}. Checking the winrate of a specific champion at a given interval should be relatively straightforward as well:"
   ]
  },
  {
   "cell_type": "code",
   "execution_count": 18,
   "id": "d77c07d4-9b1e-4f9d-aa5c-b94f6f01b33f",
   "metadata": {},
   "outputs": [
    {
     "data": {
      "text/plain": [
       "0.3795180722891566"
      ]
     },
     "metadata": {},
     "output_type": "display_data"
    },
    {
     "data": {
      "text/plain": [
       "0.5229357798165137"
      ]
     },
     "metadata": {},
     "output_type": "display_data"
    }
   ],
   "source": [
    "def get_champ_wr_at_interval(championID, time_min, time_max):\n",
    "    win = 0\n",
    "    loss = 0\n",
    "    for index, row in games.iterrows():\n",
    "        if row['gameDuration'] >= time_min and row['gameDuration'] < time_max:\n",
    "            if championID in team1_champs.loc[index].values:\n",
    "                if row['winner'] == 1:\n",
    "                    win += 1\n",
    "                else:\n",
    "                    loss += 1\n",
    "            elif championID in team2_champs.loc[index].values:\n",
    "                if row['winner'] == 2:\n",
    "                    win += 1\n",
    "                else:\n",
    "                    loss += 1\n",
    "                    \n",
    "    return (win / (win + loss))\n",
    "                    \n",
    "# we can quickly test Annie's winrate at different intervals (championID = 1)\n",
    "display(get_champ_wr_at_interval(1, 900, 1200))\n",
    "display(get_champ_wr_at_interval(1, 2100, 2400))"
   ]
  },
  {
   "cell_type": "markdown",
   "id": "7aa6df25-ba83-4a63-830e-40946b8d73a1",
   "metadata": {},
   "source": [
    "This function is effective for looking at one specific interval, but we will need to make some changes in order to check large numbers of intervals at once. We should *not* call this function over many different intervals, because the function loops over the entire dataframe looking for rows that meet the criteria.\n",
    "\n",
    "It is much more efficient to do a single pass over the dataset with the necessary intervals in mind. An example of doing this is demonstrated below:"
   ]
  },
  {
   "cell_type": "code",
   "execution_count": 19,
   "id": "2c7acf9c-0c42-4ef4-834d-a3b42b73de6f",
   "metadata": {},
   "outputs": [
    {
     "data": {
      "text/plain": [
       "[0.4807692307692308,\n",
       " 0.4491525423728814,\n",
       " 0.5145631067961165,\n",
       " 0.5249500998003992,\n",
       " 0.5472972972972973,\n",
       " 0.4434782608695652,\n",
       " 0.6136363636363636,\n",
       " None,\n",
       " None,\n",
       " None]"
      ]
     },
     "metadata": {},
     "output_type": "display_data"
    }
   ],
   "source": [
    "# times will be an array of 2-element arrays in the form [ [min, max] [min, max] ]\n",
    "# we will give the last element [3300, 99999] to show 35+ minutes\n",
    "def get_champ_wr_over_interval(championID, times, interval):\n",
    "    data = {} # dict that contains the winrate information\n",
    "    for x in times:\n",
    "        data[x] = {}\n",
    "        data[x]['w'] = 0 # data[x] represents a starting time\n",
    "        # data[x]['w'] contains the number of wins in the time interval (x, x+interval)\n",
    "        data[x]['l'] = 0\n",
    "    for index, row in games.iterrows():\n",
    "        if championID in team1_champs.loc[index].values:\n",
    "            if row['winner'] == 1:\n",
    "                for x in times:\n",
    "                    if row['gameDuration'] >= x and row['gameDuration'] < x + interval:\n",
    "                        data[x]['w'] += 1\n",
    "                        break # if the champion wins in this interval, they cannot also win in another interval\n",
    "                        # this saves time and CPU cycles\n",
    "            else:\n",
    "                for x in times:\n",
    "                    if row['gameDuration'] >= x and row['gameDuration'] < x + interval:\n",
    "                        data[x]['l'] += 1\n",
    "                        break\n",
    "        elif championID in team2_champs.loc[index].values:\n",
    "            if row['winner'] == 2:\n",
    "                for x in times:\n",
    "                    if row['gameDuration'] >= x and row['gameDuration'] < x + interval:\n",
    "                        data[x]['w'] += 1\n",
    "                        break\n",
    "            else:\n",
    "                for x in times:\n",
    "                    if row['gameDuration'] >= x and row['gameDuration'] < x + interval:\n",
    "                        data[x]['l'] += 1\n",
    "                        break\n",
    "                        \n",
    "    winrates = [] # flattening the win and loss data into a simple winrate number is much more readable\n",
    "    for x in times:\n",
    "        # game numbers lower than 20 are likely to produce results with high variances, so we should ignore them for now\n",
    "        if data[x]['l'] > 0 and data[x]['w'] + data[x]['l'] > 20:\n",
    "            winrate = data[x]['w'] / (data[x]['w'] + data[x]['l'])\n",
    "            winrates.append(winrate)\n",
    "        else:\n",
    "            winrates.append(None)\n",
    "                    \n",
    "    return winrates\n",
    "\n",
    "intervals = [900, 1200, 1500, 1800, 2100, 2400, 2700, 3000, 3300, 3500]\n",
    "display(get_champ_wr_over_interval(10, intervals, 300))"
   ]
  },
  {
   "cell_type": "markdown",
   "id": "c0bac960-9fec-4eb1-82b8-17e3228cbb43",
   "metadata": {},
   "source": [
    "This winrate data would be much more interpretable on a graph, since we are hoping to look for change over time. Noticing change over time is perfectly exemplified with a line graph, which can be generated again using *pyplot* as below:"
   ]
  },
  {
   "cell_type": "code",
   "execution_count": null,
   "id": "1659928d-3fe5-448e-b028-7d7329855835",
   "metadata": {},
   "outputs": [],
   "source": [
    "import matplotlib.pyplot as plt\n",
    "\n",
    "kayle_data = get_champ_wr_over_interval(10, intervals, 300)\n",
    "elise_data = get_champ_wr_over_interval(60, intervals, 300)\n",
    "vladimir_data = get_champ_wr_over_interval(8, intervals, 300)\n",
    "  \n",
    "plt.plot(intervals, kayle_data, label = \"kayle\")\n",
    "plt.plot(intervals, elise_data, label = \"elise\")\n",
    "plt.plot(intervals, vladimir_data, label = \"vladimir\")\n",
    "\n",
    "plt.title('Champion Winrate vs Time (seconds)')\n",
    "plt.xlabel('Game Time (seconds)')\n",
    "plt.ylabel('Winrate (percent)')\n",
    "plt.legend(loc=\"upper left\")\n",
    "plt.show()"
   ]
  },
  {
   "cell_type": "markdown",
   "id": "35974585-099b-42ad-9753-215d374de371",
   "metadata": {},
   "source": [
    "Vladimir's data looks fairly promising as a candidate for being a \"scaling champion\". Let's figure out exactly how well he scales over time, and see if the results are statistically significant.\n",
    "\n",
    "We will do this using the *scipy.stats* library--specifically *linregress*. This will perform a linear regression on our data and calculate the p-value of the results.\n",
    "\n",
    "In this case, the null hypothesis is that the real slope is actually 0, and there is no correlation between the X and Y axes. Let's run the data through the library and see the output:"
   ]
  },
  {
   "cell_type": "code",
   "execution_count": null,
   "id": "365119c0-8899-40ae-8290-055c3548bb9a",
   "metadata": {},
   "outputs": [],
   "source": [
    "from scipy.stats import linregress\n",
    "\n",
    "vladimir_data = get_champ_wr_over_interval(8, intervals, 300)\n",
    "# the data needs to be cleaned slightly, since passing in None or np.NaN to linregress will cause a fatal error\n",
    "# we will simply exclude time intervals that do not have an available winrate from the regression\n",
    "x = []\n",
    "y = []\n",
    "for i in range(0,len(intervals)):\n",
    "    if not vladimir_data[i] is None: # here we exclude any None winrates\n",
    "        x.append(intervals[i])\n",
    "        y.append(vladimir_data[i])\n",
    "\n",
    "regression = linregress(x, y)\n",
    "display(regression)"
   ]
  },
  {
   "cell_type": "markdown",
   "id": "68c0fe39-b78e-47e8-b2b4-21968035dc61",
   "metadata": {},
   "source": [
    "Displayed is the LinregressResult object with all its parameters. This isn't a super readable format, so let's change the scale and separate out the important values:"
   ]
  },
  {
   "cell_type": "code",
   "execution_count": null,
   "id": "d6753125-b057-4bba-adbc-0622245ecd8d",
   "metadata": {},
   "outputs": [],
   "source": [
    "slope = regression.slope\n",
    "intercept = regression.intercept\n",
    "pvalue = regression.pvalue\n",
    "\n",
    "display(\"Vladimir's winrate increases {}% for every second of gameplay\".format(100* slope))\n",
    "display(\"Vladimir's winrate increases {}% for every minute of gameplay\".format(100 * slope * 60))\n",
    "display(\"Vladimir's winrate increases {}% for every 5 minutes of gameplay\".format(100 * slope * 300))\n",
    "display(\"The likelihood of this line result occurring naturally is {}\".format(pvalue))"
   ]
  },
  {
   "cell_type": "markdown",
   "id": "2e943b0d-eb28-41db-9a45-d6502b4ac5a3",
   "metadata": {},
   "source": [
    "As in our other tests, a p value below 0.05 is sufficient to reject the null hypothesis. Thus, Vladimir is certainly a champion whose winrate correlates positively with time! Plotting the regression line is easy after acquiring the numbers from the regression:"
   ]
  },
  {
   "cell_type": "code",
   "execution_count": null,
   "id": "6dfa2f1f-d5df-48f6-8221-6d7a0536cf50",
   "metadata": {},
   "outputs": [],
   "source": [
    "y2 = (np.asarray(x) * regression.slope) + regression.intercept\n",
    "\n",
    "plt.plot(x, y, label=\"observed\")\n",
    "plt.plot(x, y2, label=\"regression\")\n",
    "\n",
    "plt.title('Vladimir Winrate vs. Time (seconds)')\n",
    "plt.xlabel('Game Duration (seconds)')\n",
    "plt.ylabel('Vladimir Winrate (# of wins / # of games)')\n",
    "plt.legend(loc=\"upper left\")\n",
    "plt.show()"
   ]
  },
  {
   "cell_type": "markdown",
   "id": "d82b03b6-be1d-42ec-8c9b-9e670fd6bfe2",
   "metadata": {
    "tags": []
   },
   "source": [
    "## Resources\n",
    "\n",
    "[1] https://www.kaggle.com/datasets/datasnaek/league-of-legends?resource=download  \n",
    "[2] https://pandas.pydata.org/docs/  \n",
    "[3] https://pandas.pydata.org/docs/reference/api/pandas.Series.map.html  \n",
    "[4] https://mobalytics.gg/infographics/best-champions-season-9-meta-recap/  \n",
    "[5] https://matplotlib.org/3.5.0/api/_as_gen/matplotlib.pyplot.html\\  \n",
    "[6] https://www.geeksforgeeks.org/python-flatten-a-2d-numpy-array-into-1d-array/  \n",
    "[7] https://matplotlib.org/stable/gallery/mplot3d/3d_bars.html  "
   ]
  },
  {
   "cell_type": "code",
   "execution_count": null,
   "id": "cf2eaca8-0035-4e27-ba24-f9cf41cab523",
   "metadata": {},
   "outputs": [],
   "source": []
  },
  {
   "cell_type": "code",
   "execution_count": null,
   "id": "b0141cfa-1a85-4fec-899c-04b593ccb05e",
   "metadata": {},
   "outputs": [],
   "source": []
  }
 ],
 "metadata": {
  "kernelspec": {
   "display_name": "Python 3 (ipykernel)",
   "language": "python",
   "name": "python3"
  },
  "language_info": {
   "codemirror_mode": {
    "name": "ipython",
    "version": 3
   },
   "file_extension": ".py",
   "mimetype": "text/x-python",
   "name": "python",
   "nbconvert_exporter": "python",
   "pygments_lexer": "ipython3",
   "version": "3.9.7"
  }
 },
 "nbformat": 4,
 "nbformat_minor": 5
}
