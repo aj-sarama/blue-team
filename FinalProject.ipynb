{
 "cells": [
  {
   "cell_type": "markdown",
   "id": "96f15cb3-6edd-4f61-a396-82b2815b158f",
   "metadata": {},
   "source": [
    "# League of Legends Data Analysis Tutorial\n",
    "\n",
    "*Andrew Sarama, Elisabeth Jang*  \n",
    "*May 15, 2022*  \n",
    "*University of Maryland, College Park*  \n",
    "*Department of Computer Science and Mathematics*  "
   ]
  },
  {
   "cell_type": "code",
   "execution_count": null,
   "id": "62eef6c8-cced-4bfb-bd1a-4f3364baf4df",
   "metadata": {},
   "outputs": [],
   "source": []
  }
 ],
 "metadata": {
  "kernelspec": {
   "display_name": "Python 3 (ipykernel)",
   "language": "python",
   "name": "python3"
  },
  "language_info": {
   "codemirror_mode": {
    "name": "ipython",
    "version": 3
   },
   "file_extension": ".py",
   "mimetype": "text/x-python",
   "name": "python",
   "nbconvert_exporter": "python",
   "pygments_lexer": "ipython3",
   "version": "3.9.7"
  }
 },
 "nbformat": 4,
 "nbformat_minor": 5
}
