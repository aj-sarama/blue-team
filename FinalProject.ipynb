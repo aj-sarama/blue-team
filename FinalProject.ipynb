{
 "cells": [
  {
   "cell_type": "markdown",
   "id": "96f15cb3-6edd-4f61-a396-82b2815b158f",
   "metadata": {},
   "source": [
    "# League of Legends Data Analysis Tutorial\n",
    "\n",
    "*Andrew Sarama, Elisabeth Jang*  \n",
    "*May 15, 2022*  \n",
    "*University of Maryland, College Park*  \n",
    "*Department of Computer Science and Mathematics*  \n",
    "\n",
    "## Brief Introduction\n",
    "\n",
    "League of Legends is a team-based 5v5 competitive Esport. Various data from previously played matches is saved to the LoL database. However, access to the database needs to be manually authenticated by the Riot Games Development Team. Luckily, authenticated API users have downloaded relevant data from thousands of games and uploaded the files for public access. This tutorial will be an effective introduction to analyzing LoL match data regardless of the user's authentication level.\n",
    "\n",
    "\n",
    "### Important Game Mechanics\n",
    "\n",
    "*Feel free to skip if you are already familiar with basic LoL gameplay*\n",
    "\n",
    "\n",
    "#### Primary Game Objectives\n",
    "The LoL map (also known as \"The Rift\") has 2 teams, *red* and *blue*. The goal of the game is to destroy the opposing team's *nexus*, located at the center of the opposing team's *base*. The nexus is protected by 4 layers of *towers*, which are non-regenerating defense turrets preventing players from simply walking into the enemy base. All 4 layers of towers must be penetrated before the nexus becomes attackable. \n",
    "\n",
    "#### Champions\n",
    "Before the start of any match, all 10 players choose *champions* from a pool of ~150 playable characters. Champions can attack opposing champions and towers. Champions that die in combat will respawn in their base. Note that the only way to win is to destroy the opposing nexus--killing the enemy champions simply prevents them from protecting their towers and nexus. Each player gets to pick and ban exactly 1 champion.\n",
    "\n",
    "#### Secondary Game Objectives\n",
    "There are 3 secondary objectives on The Rift: killing the *Dragon*, killing the *Rift Herald*, and killing the *Baron*. All of these objectives spawn in set times and locations on The Rift, and the team that completes the objectives first gains bonuses that make destroying the opposing team's base easier."
   ]
  },
  {
   "cell_type": "markdown",
   "id": "999892a8-89a9-42ee-b100-289131edc76d",
   "metadata": {},
   "source": [
    "## Data Analysis Opportunities\n",
    "\n",
    "Using the data that is stored for LoL matches and some data analysis techniques, we can answer some of the following interesting questions (and many, many more):\n",
    "\n",
    "1. Is the team that gets the \"first blood\" (first champion kill in the match) more likely to win? How good of a predictor is the first blood for the outcome of the game?\n",
    "2. How does completing secondary objectives impact a team's chances of winning? Is killing the dragon a waste of player's time, or is it a predictor of success?\n",
    "3. What is the relationship between a champion's win rate, pick rate, and ban rate?\n",
    "4. Is focusing more on secondary objectives than primary objectives a viable strategy?"
   ]
  },
  {
   "cell_type": "markdown",
   "id": "0f3276db-1327-4315-9133-6cc60ad1e4da",
   "metadata": {},
   "source": [
    "## Data Collection and Parsing\n",
    "\n",
    "Without a private Riot Games development key, finding LoL match data with very specific paramaters is challenging. Luckily, if we want to analyze a large quantity of general matches, many such public datasets exist. This tutorial will use a free-to-download dataset containing ~50,000 matches played on the European Server. See [1] under *Resources* for a download link.\n",
    "\n",
    "### Importing Necessary Libraries\n",
    "\n",
    "The data will be stored in our Python code using the *pandas* library. The first step will be to import the library itself:"
   ]
  },
  {
   "cell_type": "code",
   "execution_count": 1,
   "id": "b87e9835-d56b-4f7e-b7be-2ec4fc3a553f",
   "metadata": {},
   "outputs": [],
   "source": [
    "import pandas as pd"
   ]
  },
  {
   "cell_type": "markdown",
   "id": "f9f89549-dc21-4201-ad8f-ea13ccce451f",
   "metadata": {},
   "source": [
    "The data from this specific source has 4 files: games.csv (contains the game data) and 3 .json files for converting champion/spell IDs to their names. Let's first get the data from the games into a pandas DataFrame and observe what other data parsing needs to take place."
   ]
  },
  {
   "cell_type": "code",
   "execution_count": 2,
   "id": "a3f4b5ca-939c-4cbe-a158-9f3a2bc7f416",
   "metadata": {},
   "outputs": [
    {
     "data": {
      "text/plain": [
       "'gameId'"
      ]
     },
     "metadata": {},
     "output_type": "display_data"
    },
    {
     "data": {
      "text/plain": [
       "'creationTime'"
      ]
     },
     "metadata": {},
     "output_type": "display_data"
    },
    {
     "data": {
      "text/plain": [
       "'gameDuration'"
      ]
     },
     "metadata": {},
     "output_type": "display_data"
    },
    {
     "data": {
      "text/plain": [
       "'seasonId'"
      ]
     },
     "metadata": {},
     "output_type": "display_data"
    },
    {
     "data": {
      "text/plain": [
       "'winner'"
      ]
     },
     "metadata": {},
     "output_type": "display_data"
    },
    {
     "data": {
      "text/plain": [
       "'firstBlood'"
      ]
     },
     "metadata": {},
     "output_type": "display_data"
    },
    {
     "data": {
      "text/plain": [
       "'firstTower'"
      ]
     },
     "metadata": {},
     "output_type": "display_data"
    },
    {
     "data": {
      "text/plain": [
       "'firstInhibitor'"
      ]
     },
     "metadata": {},
     "output_type": "display_data"
    },
    {
     "data": {
      "text/plain": [
       "'firstBaron'"
      ]
     },
     "metadata": {},
     "output_type": "display_data"
    },
    {
     "data": {
      "text/plain": [
       "'firstDragon'"
      ]
     },
     "metadata": {},
     "output_type": "display_data"
    },
    {
     "data": {
      "text/plain": [
       "'firstRiftHerald'"
      ]
     },
     "metadata": {},
     "output_type": "display_data"
    }
   ],
   "source": [
    "games = pd.read_csv(\"/home/jovyan/notebooks/Data/games.csv\")\n",
    "\n",
    "# there are a very large number of data columns, so let's look at the names of the first 11\n",
    "display_cols = 11\n",
    "i = 1\n",
    "for col in games.columns:\n",
    "    if i <= display_cols:\n",
    "        display(col)\n",
    "        i += 1"
   ]
  },
  {
   "cell_type": "markdown",
   "id": "ac01f8ad-3051-4b69-9dba-4b5de7a1f115",
   "metadata": {},
   "source": [
    "These columns have very useful information about the events that took place in the match. From the description of the dataset at link [1], the 2 teams are given numerical identifiers 1 and 2. For all columns that show the 'first' (objective), they represent which team completed the objective first. However, not all objectives are necessary to win a game, so identifier 0 implies that neither team completed this objective.\n",
    "\n",
    "Looking at the .csv file, there are a lot of columns that are unneccessary and are needlessly cluttering the data. Here we will drop all of the columns that will not be used throughout this tutorial:"
   ]
  },
  {
   "cell_type": "code",
   "execution_count": 3,
   "id": "ba85056d-c2a8-4964-9845-91f929346706",
   "metadata": {},
   "outputs": [],
   "source": [
    "games.drop(columns=['gameId', 'creationTime', 'seasonId'], inplace = True)"
   ]
  },
  {
   "cell_type": "markdown",
   "id": "cad02401-4d33-45f2-be9a-d0110bc5420d",
   "metadata": {},
   "source": [
    "### Using JSON to Clean Up\n",
    "\n",
    "Many of the columns use numerical identifiers for champions and spells. Replacing those entries with the actual names of the champions will make interpreting the data significantly easier. We will use the *json* library to read the .JSON files into dictionaries for a quick conversion:"
   ]
  },
  {
   "cell_type": "code",
   "execution_count": 4,
   "id": "093776d0-64ee-42cc-bd13-ceb6a904f4d6",
   "metadata": {},
   "outputs": [],
   "source": [
    "import json\n",
    "\n",
    "champion_info = {}; # this will be a dictionary mapping champion ID to a set of parameters\n",
    "with open(\"/home/jovyan/notebooks/Data/champion_info.json\", \"r\") as read_file:\n",
    "    champion_info = json.load(read_file)\n",
    "    champion_info = champion_info['data'] # we don't need the game version and other extraneous data"
   ]
  },
  {
   "cell_type": "markdown",
   "id": "7e7b8d39-cf03-489f-bbfc-f065be9c285d",
   "metadata": {},
   "source": [
    "From this, let's see what information we can find about champions with ID = 1:"
   ]
  },
  {
   "cell_type": "code",
   "execution_count": 5,
   "id": "69a75f13-c707-4a58-8bee-88fec63b70e6",
   "metadata": {},
   "outputs": [
    {
     "data": {
      "text/plain": [
       "{'title': 'the Dark Child', 'id': 1, 'key': 'Annie', 'name': 'Annie'}"
      ]
     },
     "metadata": {},
     "output_type": "display_data"
    }
   ],
   "source": [
    "display(champion_info['1'])"
   ]
  },
  {
   "cell_type": "code",
   "execution_count": 6,
   "id": "36ef9c2d-6414-443d-bcd1-41f3f89970d6",
   "metadata": {},
   "outputs": [
    {
     "data": {
      "text/html": [
       "<div>\n",
       "<style scoped>\n",
       "    .dataframe tbody tr th:only-of-type {\n",
       "        vertical-align: middle;\n",
       "    }\n",
       "\n",
       "    .dataframe tbody tr th {\n",
       "        vertical-align: top;\n",
       "    }\n",
       "\n",
       "    .dataframe thead th {\n",
       "        text-align: right;\n",
       "    }\n",
       "</style>\n",
       "<table border=\"1\" class=\"dataframe\">\n",
       "  <thead>\n",
       "    <tr style=\"text-align: right;\">\n",
       "      <th></th>\n",
       "      <th>t1_champ1id</th>\n",
       "      <th>t1_champ1</th>\n",
       "    </tr>\n",
       "  </thead>\n",
       "  <tbody>\n",
       "    <tr>\n",
       "      <th>0</th>\n",
       "      <td>8</td>\n",
       "      <td>Vladimir</td>\n",
       "    </tr>\n",
       "    <tr>\n",
       "      <th>1</th>\n",
       "      <td>119</td>\n",
       "      <td>Draven</td>\n",
       "    </tr>\n",
       "    <tr>\n",
       "      <th>2</th>\n",
       "      <td>18</td>\n",
       "      <td>Tristana</td>\n",
       "    </tr>\n",
       "    <tr>\n",
       "      <th>3</th>\n",
       "      <td>57</td>\n",
       "      <td>Maokai</td>\n",
       "    </tr>\n",
       "    <tr>\n",
       "      <th>4</th>\n",
       "      <td>19</td>\n",
       "      <td>Warwick</td>\n",
       "    </tr>\n",
       "  </tbody>\n",
       "</table>\n",
       "</div>"
      ],
      "text/plain": [
       "   t1_champ1id t1_champ1\n",
       "0            8  Vladimir\n",
       "1          119    Draven\n",
       "2           18  Tristana\n",
       "3           57    Maokai\n",
       "4           19   Warwick"
      ]
     },
     "metadata": {},
     "output_type": "display_data"
    }
   ],
   "source": [
    "def champ_name_map(id): # this function will serve as a map \n",
    "  return champion_info[id]['name']\n",
    "\n",
    "# the dataset gives numerical id's, while all json keys are strings\n",
    "games['t1_champ1'] = games['t1_champ1id'].astype(str)\n",
    "games['t1_champ1'] = games['t1_champ1'].map(champ_name_map) # apply id string -> name mapping function\n",
    "display(games[['t1_champ1id', 't1_champ1']].head(5))"
   ]
  },
  {
   "cell_type": "markdown",
   "id": "2061b9ab-3fad-4fdd-a85a-b8c94b3fa4be",
   "metadata": {},
   "source": [
    "Having done this, any data analysis done on the champion selection of the players will now be a lot more readable! "
   ]
  },
  {
   "cell_type": "markdown",
   "id": "14ae84ef-7e99-41f1-80f3-913df3bfaa45",
   "metadata": {},
   "source": [
    "### Data Cleaning: Early Forfeited Games\n",
    "\n",
    "In LoL, if a player disconnects within the first ~6 minutes of the game, the players in the game can vote to cancel the match. Games like this will prove to be outliers in a number of areas (low objective count, no tower destructions, no first bloods, etc). It makes a lot of sense to remove games like this.\n",
    "\n",
    "A game cannot be forfeited or realistically lost before 10 minutes. Thus, any game that lasts less than 600 seconds is likely a game that was reset after a disconnect. Do any games like this exist?"
   ]
  },
  {
   "cell_type": "code",
   "execution_count": 7,
   "id": "21084919-5477-4245-8c4a-0ce5e3a8db36",
   "metadata": {},
   "outputs": [
    {
     "data": {
      "text/plain": [
       "1204"
      ]
     },
     "execution_count": 7,
     "metadata": {},
     "output_type": "execute_result"
    }
   ],
   "source": [
    "len(games[games['gameDuration'] <= 600])"
   ]
  },
  {
   "cell_type": "markdown",
   "id": "01ace4c5-f33e-448f-8acb-6e85ab4310eb",
   "metadata": {},
   "source": [
    "So it appears that ~1200 of our games were cancelled before the 10 minute mark. These games will not be beneficial to our analysis, so lets remove them:"
   ]
  },
  {
   "cell_type": "code",
   "execution_count": 8,
   "id": "2afee0d3-7e4c-4153-98d5-c75f40d8fe83",
   "metadata": {},
   "outputs": [
    {
     "data": {
      "text/plain": [
       "50286"
      ]
     },
     "execution_count": 8,
     "metadata": {},
     "output_type": "execute_result"
    }
   ],
   "source": [
    "games = games[games['gameDuration'] > 600]\n",
    "games.reset_index() # this is necessary as some indexes will be left empty after dropping rows\n",
    "len(games)"
   ]
  },
  {
   "cell_type": "markdown",
   "id": "c2748e85-ec96-4402-a051-3fa71c24d9b2",
   "metadata": {},
   "source": [
    "## Data Analysis Example: First Blood\n",
    "\n",
    "As an example exercise, we will determine whether the team that gets the *first blood* (reminder: this is the team that gets the first champion kill) is more likely to win the match. We will then do some hypothesis testing to check the statistical signficance of the results.\n",
    "\n",
    "First, let's figure out the win percentage of the team that gets the first blood. We know if the winning team gets the first blood whenever the 'winner' column is equal to the 'firstBlood' column."
   ]
  },
  {
   "cell_type": "code",
   "execution_count": 9,
   "id": "9f7d5191-4ad6-4f88-a102-9af52ba10b68",
   "metadata": {},
   "outputs": [
    {
     "data": {
      "text/plain": [
       "59.052221294197196"
      ]
     },
     "metadata": {},
     "output_type": "display_data"
    }
   ],
   "source": [
    "# we are looking for the number of rows \n",
    "num_wins = len(games[games[\"winner\"] == games[\"firstBlood\"]])\n",
    "num_games = len(games)\n",
    "\n",
    "display((num_wins / num_games) * 100.0)"
   ]
  },
  {
   "cell_type": "markdown",
   "id": "6125f01f-6442-4be0-aefc-788a511f6b0a",
   "metadata": {},
   "source": [
    "Interesting! According to the dataset, the team that gets the first blood has a 58.47% chance of winning the match. But how statistically significant is this result?\n",
    "\n",
    "On average, two evenly matched teams should each have a winrate very close to 50%. It may be naive to assume that all teams in this dataset are \"evenly matched\", however there is no good way to quantify the fairness of a match. For the rest of this analysis, let's assume that teams 1 and 2 are evenly matched, and thus have an equal chance of getting the first blood. There may be conflating variables such as champion selection/archetype, but let's ignore that for now.\n",
    "\n",
    "### Hypothesis Testing\n",
    "\n",
    "For this hypothesis test, let's be more statistically robust. Let's consider each team as an individual (meaning there are 2 data points per match). The independent variable is whether or not a team got the first blood. The dependent variable is whether or not the team won the match. Let's filter out some dataframes that represent these variables:"
   ]
  },
  {
   "cell_type": "code",
   "execution_count": 10,
   "id": "6f3c3dfc-eabe-4bd5-97db-710b6147c249",
   "metadata": {},
   "outputs": [
    {
     "data": {
      "text/plain": [
       "[29695, 20591]"
      ]
     },
     "metadata": {},
     "output_type": "display_data"
    }
   ],
   "source": [
    "first_blood_win = 0\n",
    "first_blood_loss = 0\n",
    "\n",
    "for index, row in games.iterrows():\n",
    "    if row['firstBlood'] == row['winner']:\n",
    "        first_blood_win += 1\n",
    "    else:\n",
    "        first_blood_loss += 1\n",
    "        \n",
    "display([first_blood_win, first_blood_loss])"
   ]
  },
  {
   "cell_type": "markdown",
   "id": "4872b6f4-0c09-472b-9191-7c8806573737",
   "metadata": {},
   "source": [
    "Now, we have a categorical dependent and independent variable. We are hoping to show that the number of observations for the dependent categories is far enough away from the expected number of observations. If the first blood in a match had no correlation with the result, then we would expect the first blood teams to have an equal number of wins and losses (since the average winrate for a team would be 50%). \n",
    "\n",
    "This comparison of categorical variable frequencies is perfect for a chi-square test! The scipy library can quickly do the chi-square test for us:"
   ]
  },
  {
   "cell_type": "code",
   "execution_count": 11,
   "id": "45e517d0-000d-480e-8ca5-707653bc3289",
   "metadata": {},
   "outputs": [
    {
     "data": {
      "text/plain": [
       "Power_divergenceResult(statistic=1648.2284532474248, pvalue=0.0)"
      ]
     },
     "metadata": {},
     "output_type": "display_data"
    }
   ],
   "source": [
    "import scipy.stats as stat\n",
    "\n",
    "expected = (first_blood_win + first_blood_loss) / 2\n",
    "display(stat.chisquare(f_obs = [first_blood_win, first_blood_loss], f_exp = [expected, expected]))"
   ]
  },
  {
   "cell_type": "markdown",
   "id": "d3d54030-a7dc-4148-93f7-b580fd5359e5",
   "metadata": {},
   "source": [
    "Perhaps this test wasn't necessary, considering there is an almost 5,000 observation difference from the number we would expect. Thus, the p-value of this number of observations occurring naturally is so small, that it's being rounded to 0.0. Without question, there is a correlation between the team that gets first blood and their chance of victory. But is there an example with a more reasonable p-value?\n",
    "\n",
    "Let's discuss which champions are correlated with an increased number of wins for their team *with statistical significance*. Let's set a maximum p-value of 0.05, meaning any chi-square test that has a p-value higher than 0.05 will not have a statistically significant advantage.\\\n",
    "\n",
    "Here, I will define a function that checks the champions of each team and counts the wins and losses for teams with a specific championID (numerical parameter):"
   ]
  },
  {
   "cell_type": "code",
   "execution_count": 15,
   "id": "4d2abc49-82da-4fba-9225-df8d0ca9f920",
   "metadata": {},
   "outputs": [
    {
     "data": {
      "text/plain": [
       "0.299872658150015"
      ]
     },
     "execution_count": 15,
     "metadata": {},
     "output_type": "execute_result"
    }
   ],
   "source": [
    "team1_champs = games[['t1_champ1id', 't1_champ2id', 't1_champ3id', 't1_champ4id', 't1_champ5id']]\n",
    "team2_champs = games[['t2_champ1id', 't2_champ2id', 't2_champ3id', 't2_champ4id', 't2_champ5id']]\n",
    "\n",
    "def champion_win_pvalue(championID):\n",
    "    win_with_champ = 0 # number of times champ is on the team and wins\n",
    "    loss_with_champ = 0 # number of times champ is on the team and loses\n",
    "\n",
    "    for index, row in team1_champs.iterrows():\n",
    "        if championID in row.values: # row only contains champion IDs for team1, so other columns won't interfere\n",
    "            if games.loc[index]['winner'] == 1:\n",
    "                win_with_champ += 1\n",
    "            else:\n",
    "                loss_with_champ += 1\n",
    "\n",
    "    for index, row in team2_champs.iterrows():\n",
    "        if championID in row.values:\n",
    "            if games.loc[index]['winner'] == 1:\n",
    "                win_with_champ += 1\n",
    "            else:\n",
    "                loss_with_champ += 1\n",
    "    \n",
    "    if win_with_champ < loss_with_champ:\n",
    "        return 1 # we are looking for who is statistically more likely to make their team *win*- we don't care if they make their team lose\n",
    "                \n",
    "    expected = (win_with_champ + loss_with_champ) / 2 # if the champ has no effect on the outcome, we would expect there to be equal win/loss\n",
    "    test = stat.chisquare(f_obs = [win_with_champ, loss_with_champ], f_exp = [expected, expected])\n",
    "    return test.pvalue\n",
    "\n",
    "champion_win_pvalue(8) # championID 8 corresponds to Vladimir"
   ]
  },
  {
   "cell_type": "markdown",
   "id": "58d75d23-1d43-4fb6-a60a-eb805e82c3d2",
   "metadata": {},
   "source": [
    "Now we have a function that can take any individual champion, and tell us if they have a statistically significant correlation with making their team win! Although, we have to manually check the p-value and see if it's statistically significant (p < 0.05).\n",
    "\n",
    "What if we want to see all of the champs that have this statistically significant correlation? To do this, let's make our code a bit more efficient:"
   ]
  },
  {
   "cell_type": "code",
   "execution_count": 14,
   "id": "bb0c97d5-d911-4660-8a18-dcd91c21aaa6",
   "metadata": {},
   "outputs": [
    {
     "data": {
      "text/plain": [
       "['Soraka',\n",
       " 'Teemo',\n",
       " 'Tristana',\n",
       " 'Warwick',\n",
       " 'Miss Fortune',\n",
       " 'Tryndamere',\n",
       " 'Singed',\n",
       " 'Twitch',\n",
       " \"Cho'Gath\",\n",
       " 'Rammus',\n",
       " 'Anivia',\n",
       " 'Sona',\n",
       " 'Janna',\n",
       " 'Taric',\n",
       " 'Swain',\n",
       " 'Blitzcrank',\n",
       " 'Maokai',\n",
       " 'Jarvan IV',\n",
       " 'Wukong',\n",
       " 'Vayne',\n",
       " 'Yorick',\n",
       " 'Garen',\n",
       " 'Malzahar',\n",
       " 'Xerath',\n",
       " 'Shyvana',\n",
       " 'Ahri',\n",
       " 'Sejuani',\n",
       " 'Darius',\n",
       " 'Nami']"
      ]
     },
     "metadata": {},
     "output_type": "display_data"
    }
   ],
   "source": [
    "champ_win_dict = {} # here we will store the wins/losses, so we don't have to iterate over the dataframe 150+ times!\n",
    "\n",
    "# instantiate the dict with all the champions\n",
    "for x in champion_info:\n",
    "    champ_win_dict[x] = {}\n",
    "    champ_win_dict[x]['w'] = 0 # count the number of wins\n",
    "    champ_win_dict[x]['l'] = 0 # count the number of losses\n",
    "\n",
    "for index, row in games.iterrows():\n",
    "    if games.loc[index]['winner'] == 1:\n",
    "        champ_win_dict[str(row['t1_champ1id'])]['w'] += 1\n",
    "        champ_win_dict[str(row['t1_champ2id'])]['w'] += 1\n",
    "        champ_win_dict[str(row['t1_champ3id'])]['w'] += 1\n",
    "        champ_win_dict[str(row['t1_champ4id'])]['w'] += 1\n",
    "        champ_win_dict[str(row['t1_champ5id'])]['w'] += 1\n",
    "        champ_win_dict[str(row['t2_champ1id'])]['l'] += 1\n",
    "        champ_win_dict[str(row['t2_champ2id'])]['l'] += 1\n",
    "        champ_win_dict[str(row['t2_champ3id'])]['l'] += 1\n",
    "        champ_win_dict[str(row['t2_champ4id'])]['l'] += 1\n",
    "        champ_win_dict[str(row['t2_champ5id'])]['l'] += 1\n",
    "    else:\n",
    "        champ_win_dict[str(row['t1_champ1id'])]['l'] += 1\n",
    "        champ_win_dict[str(row['t1_champ2id'])]['l'] += 1\n",
    "        champ_win_dict[str(row['t1_champ3id'])]['l'] += 1\n",
    "        champ_win_dict[str(row['t1_champ4id'])]['l'] += 1\n",
    "        champ_win_dict[str(row['t1_champ5id'])]['l'] += 1\n",
    "        champ_win_dict[str(row['t2_champ1id'])]['w'] += 1\n",
    "        champ_win_dict[str(row['t2_champ2id'])]['w'] += 1\n",
    "        champ_win_dict[str(row['t2_champ3id'])]['w'] += 1\n",
    "        champ_win_dict[str(row['t2_champ4id'])]['w'] += 1\n",
    "        champ_win_dict[str(row['t2_champ5id'])]['w'] += 1\n",
    "\n",
    "best_champions = [] # statistically correlated best champions\n",
    "            \n",
    "for x in champion_info:\n",
    "    win = champ_win_dict[x]['w']\n",
    "    loss = champ_win_dict[x]['l']\n",
    "    expected = (win + loss) / 2\n",
    "    \n",
    "    # now we want to apply a chi-square test to every champion\n",
    "    if expected < 300:\n",
    "        champ_win_dict[x]['p'] = 1  # not enough games to be statistically significant\n",
    "        continue\n",
    "    \n",
    "    if win < loss:\n",
    "        champ_win_dict[x]['p'] = 1  # we only care if they win more than they lose\n",
    "        continue\n",
    "        \n",
    "    test = stat.chisquare(f_obs = [win, loss], f_exp = [expected, expected])\n",
    "    champ_win_dict[x]['p'] = test.pvalue\n",
    "    \n",
    "    if test.pvalue <= 0.05:\n",
    "        best_champions.append(champion_info[x][\"name\"])\n",
    "    \n",
    "display(best_champions)    "
   ]
  },
  {
   "cell_type": "markdown",
   "id": "21f73dc4-d147-4dfd-9dff-bc8e768ea3bc",
   "metadata": {},
   "source": [
    "According to our chi-square test, these champions are correlated with their team's victory with p-value <= 0.05 across this dataset. This is one of the primary metrics used to determine whether a champion is considered 'meta' (the strongest available strategy). If you compare this to an online tier list made by high-ranked LoL players, you'll notice most of them appear on the list:"
   ]
  },
  {
   "cell_type": "markdown",
   "id": "b849e584-ad58-4dde-bdaa-5559eff45890",
   "metadata": {},
   "source": [
    "3d bar graph of win percentages by secondary objectives"
   ]
  },
  {
   "cell_type": "code",
   "execution_count": 16,
   "id": "1bb157d7-9051-4a6f-9007-42462e86a14f",
   "metadata": {},
   "outputs": [
    {
     "data": {
      "image/png": "[encoded data removed]",
      "text/plain": [
       "<Figure size 1728x864 with 1 Axes>"
      ]
     },
     "metadata": {
      "needs_background": "light"
     },
     "output_type": "display_data"
    }
   ],
   "source": [
    "import numpy as np\n",
    "import matplotlib.pyplot as plt\n",
    "\n",
    "# first we need a grid for the number of dragons and heralds\n",
    "data = {} # keys will be # of dragons, values will be a new dictionary with number of barons\n",
    "# values of the data[# of drag][# of baron] = [wins, losses]\n",
    "for dragons in range(0,7):\n",
    "    data[dragons] = {}\n",
    "    for barons in range(0,6):\n",
    "        data[dragons][barons] = [0,0]\n",
    "\n",
    "for index, row in games.iterrows():\n",
    "    if row['winner'] == 1:\n",
    "        num_dragons = row['t1_dragonKills']\n",
    "        num_barons = row['t1_baronKills'] + row['t1_riftHeraldKills']\n",
    "        t = data[num_dragons][num_barons]\n",
    "        data[num_dragons][num_barons] = [t[0] + 1, t[1]]\n",
    "        \n",
    "        num_dragons = row['t2_dragonKills']\n",
    "        num_barons = row['t2_baronKills'] + row['t2_riftHeraldKills']\n",
    "        t = data[num_dragons][num_barons]\n",
    "        data[num_dragons][num_barons] = [t[0], t[1] + 1]\n",
    "    else:\n",
    "        num_dragons = row['t1_dragonKills']\n",
    "        num_barons = row['t1_baronKills'] + row['t1_riftHeraldKills']\n",
    "        t = data[num_dragons][num_barons]\n",
    "        data[num_dragons][num_barons] = [t[0], t[1] + 1]\n",
    "        \n",
    "        num_dragons = row['t2_dragonKills']\n",
    "        num_barons = row['t2_baronKills'] + row['t2_riftHeraldKills']\n",
    "        t = data[num_dragons][num_barons]\n",
    "        data[num_dragons][num_barons] = [t[0] + 1, t[1]]\n",
    "        \n",
    "for dragons in range(0,7):\n",
    "    for barons in range(0,6):\n",
    "        t = data[dragons][barons]\n",
    "        total_games = t[0] + t[1]\n",
    "        if total_games > 0:\n",
    "            data[dragons][barons] = t[0] / total_games\n",
    "        else:\n",
    "            data[dragons][barons] = 0\n",
    "            \n",
    "data_matrix = np.zeros((7, 6))\n",
    "for dragons in range(0,7):\n",
    "    for barons in range(0,6):\n",
    "        data_matrix[dragons][barons] = data[dragons][barons]\n",
    "        \n",
    "#display(data_matrix)\n",
    "\n",
    "# setup the figure and axes\n",
    "fig = plt.figure(figsize=(24, 12))\n",
    "ax1 = fig.add_subplot(121, projection='3d')\n",
    "\n",
    "# fake data\n",
    "_x = np.arange(7)\n",
    "_y = np.arange(6)\n",
    "_xx, _yy = np.meshgrid(_x, _y)\n",
    "x, y = _xx.ravel(), _yy.ravel()\n",
    "\n",
    "top = data_matrix.flatten()\n",
    "bottom = np.zeros_like(top)\n",
    "width = depth = 1\n",
    "\n",
    "ax1.bar3d(x, y, bottom, width, depth, top, shade=True)\n",
    "ax1.set_title('Shaded')\n",
    "ax1.invert_xaxis()\n",
    "\n",
    "plt.show()"
   ]
  },
  {
   "cell_type": "markdown",
   "id": "d82b03b6-be1d-42ec-8c9b-9e670fd6bfe2",
   "metadata": {
    "tags": []
   },
   "source": [
    "## Resources\n",
    "\n",
    "[1] https://www.kaggle.com/datasets/datasnaek/league-of-legends?resource=download"
   ]
  },
  {
   "cell_type": "code",
   "execution_count": null,
   "id": "cf2eaca8-0035-4e27-ba24-f9cf41cab523",
   "metadata": {},
   "outputs": [],
   "source": []
  },
  {
   "cell_type": "code",
   "execution_count": null,
   "id": "b0141cfa-1a85-4fec-899c-04b593ccb05e",
   "metadata": {},
   "outputs": [],
   "source": []
  }
 ],
 "metadata": {
  "kernelspec": {
   "display_name": "Python 3 (ipykernel)",
   "language": "python",
   "name": "python3"
  },
  "language_info": {
   "codemirror_mode": {
    "name": "ipython",
    "version": 3
   },
   "file_extension": ".py",
   "mimetype": "text/x-python",
   "name": "python",
   "nbconvert_exporter": "python",
   "pygments_lexer": "ipython3",
   "version": "3.9.7"
  }
 },
 "nbformat": 4,
 "nbformat_minor": 5
}
