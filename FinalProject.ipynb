{
 "cells": [
  {
   "cell_type": "markdown",
   "id": "96f15cb3-6edd-4f61-a396-82b2815b158f",
   "metadata": {},
   "source": [
    "# League of Legends Data Analysis Tutorial\n",
    "\n",
    "*Andrew Sarama, Elisabeth Jang*  \n",
    "*May 15, 2022*  \n",
    "*University of Maryland, College Park*  \n",
    "*Department of Computer Science and Mathematics*  \n",
    "\n",
    "## Brief Introduction\n",
    "\n",
    "League of Legends is a team-based 5v5 competitive Esport. Various data from previously played matches is saved to the LoL database. However, access to the database needs to be manually authenticated by the Riot Games Development Team. Luckily, authenticated API users have downloaded relevant data from thousands of games and uploaded the files for public access. This tutorial will be an effective introduction to analyzing LoL match data regardless of the user's authentication level.\n",
    "\n",
    "\n",
    "### Important Game Mechanics\n",
    "\n",
    "*Feel free to skip if you are already familiar with basic LoL gameplay*\n",
    "\n",
    "\n",
    "#### Primary Game Objectives\n",
    "The LoL map (also known as \"The Rift\") has 2 teams, *red* and *blue*. The goal of the game is to destroy the opposing team's *nexus*, located at the center of the opposing team's *base*. The nexus is protected by 4 layers of *towers*, which are non-regenerating defense turrets preventing players from simply walking into the enemy base. All 4 layers of towers must be penetrated before the nexus becomes attackable. \n",
    "\n",
    "#### Champions\n",
    "Before the start of any match, all 10 players choose *champions* from a pool of ~150 playable characters. Champions can attack opposing champions and towers. Champions that die in combat will respawn in their base. Note that the only way to win is to destroy the opposing nexus--killing the enemy champions simply prevents them from protecting their towers and nexus. Each player gets to pick and ban exactly 1 champion.\n",
    "\n",
    "#### Secondary Game Objectives\n",
    "There are 3 secondary objectives on The Rift: killing the *Dragon*, killing the *Rift Herald*, and killing the *Baron*. All of these objectives spawn in set times and locations on The Rift, and the team that completes the objectives first gains bonuses that make destroying the opposing team's base easier."
   ]
  },
  {
   "cell_type": "markdown",
   "id": "999892a8-89a9-42ee-b100-289131edc76d",
   "metadata": {},
   "source": [
    "## Data Analysis Opportunities\n",
    "\n",
    "Using the data that is stored for LoL matches and some data analysis techniques, we can answer some of the following interesting questions (and many, many more):\n",
    "\n",
    "1. Is the team that gets the \"first blood\" (first champion kill in the match) more likely to win? How good of a predictor is the first blood for the outcome of the game?\n",
    "2. How does completing secondary objectives impact a team's chances of winning? Is killing the dragon a waste of player's time, or is it a predictor of success?\n",
    "3. What is the relationship between a champion's win rate, pick rate, and ban rate?\n",
    "4. Is focusing more on secondary objectives than primary objectives a viable strategy?"
   ]
  },
  {
   "cell_type": "markdown",
   "id": "0f3276db-1327-4315-9133-6cc60ad1e4da",
   "metadata": {},
   "source": [
    "## Data Collection and Parsing\n",
    "\n",
    "Without a private Riot Games development key, finding LoL match data with very specific paramaters is challenging. Luckily, if we want to analyze a large quantity of general matches, many such public datasets exist. This tutorial will use a free-to-download dataset containing ~50,000 matches played on the European Server. See [1] under *Resources* for a download link.\n",
    "\n",
    "### Importing Necessary Libraries\n",
    "\n",
    "The data will be stored in our Python code using the *pandas* library. The first step will be to import the library itself:"
   ]
  },
  {
   "cell_type": "code",
   "execution_count": 1,
   "id": "b87e9835-d56b-4f7e-b7be-2ec4fc3a553f",
   "metadata": {},
   "outputs": [],
   "source": [
    "import pandas as pd"
   ]
  },
  {
   "cell_type": "markdown",
   "id": "f9f89549-dc21-4201-ad8f-ea13ccce451f",
   "metadata": {},
   "source": [
    "The data from this specific source has 4 files: games.csv (contains the game data) and 3 .json files for converting champion/spell IDs to their names. Let's first get the data from the games into a pandas DataFrame and observe what other data parsing needs to take place."
   ]
  },
  {
   "cell_type": "code",
   "execution_count": 11,
   "id": "a3f4b5ca-939c-4cbe-a158-9f3a2bc7f416",
   "metadata": {},
   "outputs": [
    {
     "data": {
      "text/plain": [
       "'gameId'"
      ]
     },
     "metadata": {},
     "output_type": "display_data"
    },
    {
     "data": {
      "text/plain": [
       "'creationTime'"
      ]
     },
     "metadata": {},
     "output_type": "display_data"
    },
    {
     "data": {
      "text/plain": [
       "'gameDuration'"
      ]
     },
     "metadata": {},
     "output_type": "display_data"
    },
    {
     "data": {
      "text/plain": [
       "'seasonId'"
      ]
     },
     "metadata": {},
     "output_type": "display_data"
    },
    {
     "data": {
      "text/plain": [
       "'winner'"
      ]
     },
     "metadata": {},
     "output_type": "display_data"
    },
    {
     "data": {
      "text/plain": [
       "'firstBlood'"
      ]
     },
     "metadata": {},
     "output_type": "display_data"
    },
    {
     "data": {
      "text/plain": [
       "'firstTower'"
      ]
     },
     "metadata": {},
     "output_type": "display_data"
    },
    {
     "data": {
      "text/plain": [
       "'firstInhibitor'"
      ]
     },
     "metadata": {},
     "output_type": "display_data"
    },
    {
     "data": {
      "text/plain": [
       "'firstBaron'"
      ]
     },
     "metadata": {},
     "output_type": "display_data"
    },
    {
     "data": {
      "text/plain": [
       "'firstDragon'"
      ]
     },
     "metadata": {},
     "output_type": "display_data"
    },
    {
     "data": {
      "text/plain": [
       "'firstRiftHerald'"
      ]
     },
     "metadata": {},
     "output_type": "display_data"
    }
   ],
   "source": [
    "games = pd.read_csv(\"/home/jovyan/notebooks/Data/games.csv\")\n",
    "\n",
    "# there are a very large number of data columns, so let's look at the names of the first 11\n",
    "display_cols = 11\n",
    "i = 1\n",
    "for col in games.columns:\n",
    "    if i <= display_cols:\n",
    "        display(col)\n",
    "        i += 1"
   ]
  },
  {
   "cell_type": "markdown",
   "id": "ac01f8ad-3051-4b69-9dba-4b5de7a1f115",
   "metadata": {},
   "source": [
    "These columns have very useful information about the events that took place in the match. From the description of the dataset at link [1], the 2 teams are given numerical identifiers 1 and 2. For all columns that show the 'first' (objective), they represent which team completed the objective first. However, not all objectives are necessary to win a game, so identifier 0 implies that neither team completed this objective.\n",
    "\n",
    "Looking at the .csv file, there are a lot of columns that are unneccessary and are needlessly cluttering the data. Here we will drop all of the columns that will not be used throughout this tutorial:"
   ]
  },
  {
   "cell_type": "code",
   "execution_count": 12,
   "id": "ba85056d-c2a8-4964-9845-91f929346706",
   "metadata": {},
   "outputs": [],
   "source": [
    "games.drop(columns=['gameId', 'creationTime', 'seasonId'], inplace = True)"
   ]
  },
  {
   "cell_type": "markdown",
   "id": "cad02401-4d33-45f2-be9a-d0110bc5420d",
   "metadata": {},
   "source": [
    "### Using JSON to Clean Up\n",
    "\n",
    "The data"
   ]
  },
  {
   "cell_type": "markdown",
   "id": "d82b03b6-be1d-42ec-8c9b-9e670fd6bfe2",
   "metadata": {
    "tags": []
   },
   "source": [
    "## Resources\n",
    "\n",
    "[1] https://www.kaggle.com/datasets/datasnaek/league-of-legends?resource=download"
   ]
  },
  {
   "cell_type": "code",
   "execution_count": null,
   "id": "cf2eaca8-0035-4e27-ba24-f9cf41cab523",
   "metadata": {},
   "outputs": [],
   "source": []
  },
  {
   "cell_type": "code",
   "execution_count": null,
   "id": "b0141cfa-1a85-4fec-899c-04b593ccb05e",
   "metadata": {},
   "outputs": [],
   "source": []
  }
 ],
 "metadata": {
  "kernelspec": {
   "display_name": "Python 3 (ipykernel)",
   "language": "python",
   "name": "python3"
  },
  "language_info": {
   "codemirror_mode": {
    "name": "ipython",
    "version": 3
   },
   "file_extension": ".py",
   "mimetype": "text/x-python",
   "name": "python",
   "nbconvert_exporter": "python",
   "pygments_lexer": "ipython3",
   "version": "3.9.7"
  }
 },
 "nbformat": 4,
 "nbformat_minor": 5
}
